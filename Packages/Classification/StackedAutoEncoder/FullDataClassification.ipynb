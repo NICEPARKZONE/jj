{
 "cells": [
  {
   "cell_type": "markdown",
   "metadata": {},
   "source": [
    "# Projeto de Classificaçãoo para Marinha do Brasil\n",
    "### Autor: Natanael Junior (natmourajr@gmail.com)\n",
    "Laboratório de Processamento de Sinais - UFRJ\n",
    "\n",
    "Laboratório de Tecnologia Sonar\n",
    "\n",
    "Instituto de Pesquisas da Marinha - IPqM\n"
   ]
  },
  {
   "cell_type": "markdown",
   "metadata": {},
   "source": [
    "## Bibliotecas e leitura de dados"
   ]
  },
  {
   "cell_type": "code",
   "execution_count": 1,
   "metadata": {
    "collapsed": false
   },
   "outputs": [
    {
     "name": "stdout",
     "output_type": "stream",
     "text": [
      "Time to import all libraries: 2.59876251221e-05 seconds\n",
      "Time to read data file: 4.36726784706 seconds\n"
     ]
    }
   ],
   "source": [
    "import os\n",
    "import pickle\n",
    "import numpy as np\n",
    "import time\n",
    "\n",
    "from sklearn.externals import joblib\n",
    "\n",
    "init_time = time.time()\n",
    "\n",
    "m_time = time.time()\n",
    "print 'Time to import all libraries: '+str(m_time-init_time)+' seconds'\n",
    "\n",
    "outputpath = os.environ['OUTPUTDATAPATH']\n",
    "main_analysis_path = os.environ['SONAR_WORKSPACE']\n",
    "log_analysis_path = os.environ['PACKAGE_OUTPUT']\n",
    "result_analysis_path = os.environ['PACKAGE_OUTPUT']+'/StackedAutoEncoder'\n",
    "pict_results_path = result_analysis_path+'/picts'\n",
    "files_results_path = result_analysis_path+'/output_files'\n",
    "\n",
    "# Read data\n",
    "# Check if LofarData has created...\n",
    "m_time = time.time()\n",
    "\n",
    "\n",
    "subfolder = '4classes_old'\n",
    "n_pts_fft = 1024\n",
    "decimation_rate = 3\n",
    "\n",
    "if(not os.path.exists(outputpath+'/'+'LofarData_%s_%i_fft_pts_%i_decimation_rate.jbl'%(\n",
    "            subfolder,n_pts_fft,decimation_rate))):\n",
    "    print outputpath+'/'+'LofarData_%s_%i_fft_pts_%i_decimation_rate.jbl'%(\n",
    "        subfolder,n_pts_fft,decimation_rate)+' doesnt exist...please create it'\n",
    "    exit()\n",
    "    \n",
    "#Read lofar data\n",
    "[data,class_labels] = joblib.load(outputpath+'/'+\n",
    "                                  'LofarData_%s_%i_fft_pts_%i_decimation_rate.jbl'%(\n",
    "            subfolder,n_pts_fft,decimation_rate))\n",
    "m_time = time.time()-m_time\n",
    "print 'Time to read data file: '+str(m_time)+' seconds'"
   ]
  },
  {
   "cell_type": "markdown",
   "metadata": {},
   "source": [
    "## Processamento dos dados\n",
    "\n",
    "Os dados encontram-se no formato do matlab, para isso precisam ser processados para o formato de python.\n"
   ]
  },
  {
   "cell_type": "code",
   "execution_count": 2,
   "metadata": {
    "collapsed": true
   },
   "outputs": [],
   "source": [
    "# Process data...\n",
    "# create a full data vector\n",
    "all_data = {};\n",
    "all_trgt = {};\n",
    "\n",
    "for iclass, class_label in enumerate(class_labels):\n",
    "    for irun in range(len(data[iclass])):\n",
    "        if len(all_data) == 0:\n",
    "            all_data = data[iclass][irun]['Signal']\n",
    "            all_trgt = (iclass)*np.ones(data[iclass][irun]['Signal'].shape[1])\n",
    "        else:\n",
    "            all_data = np.append(all_data,data[iclass][irun]['Signal'],axis=1)\n",
    "            all_trgt = np.append(all_trgt,(iclass)*np.ones(data[iclass][irun]\n",
    "                                                           ['Signal'].shape[1]),axis=0)\n",
    "            \n",
    "all_data = all_data.transpose()\n"
   ]
  },
  {
   "cell_type": "markdown",
   "metadata": {},
   "source": [
    "## Balanceamento de Classes\n",
    "Os dados encontram-se desbalanceados. Com isso, os classificadores podem se especializar em uma classe (gerando mais SVs para a mesma) e não se especializar em outras\n",
    "\n",
    "Acessados em 21/12/2016\n",
    "\n",
    "https://svds.com/learning-imbalanced-classes/\n",
    "\n",
    "http://www.cs.utah.edu/~piyush/teaching/ImbalancedLearning.pdf\n",
    "\n",
    "http://scikit-learn.org/stable/auto_examples/svm/plot_separating_hyperplane_unbalanced.html\n",
    "\n",
    "Para solucionar isso, a primeira solução é \"criar\" dados das classes com menos eventos de maneira aleatória. Outras soluções podem ser propostas posteriormente."
   ]
  },
  {
   "cell_type": "code",
   "execution_count": 3,
   "metadata": {
    "collapsed": false
   },
   "outputs": [
    {
     "name": "stdout",
     "output_type": "stream",
     "text": [
      "Qtd event of ClassA is 4312\n",
      "Qtd event of ClassB is 9781\n",
      "Qtd event of ClassC is 3833\n",
      "Qtd event of ClassD is 7918\n",
      "\n",
      "Biggest class is ClassB with 9781 events\n",
      "DataHandler Class: CreateEventsForClass\n",
      "Original Size: (4312, 400)\n",
      "DataHandler Class: CreateEventsForClass\n",
      "Original Size: (9781, 400)\n",
      "DataHandler Class: CreateEventsForClass\n",
      "Original Size: (3833, 400)\n",
      "DataHandler Class: CreateEventsForClass\n",
      "Original Size: (7918, 400)\n"
     ]
    }
   ],
   "source": [
    "# Process data\n",
    "# unbalanced data to balanced data with random data creation of small classes\n",
    "\n",
    "# Same number of events in each class\n",
    "qtd_events_biggest_class = 0\n",
    "biggest_class_label = ''\n",
    "\n",
    "for iclass, class_label in enumerate(class_labels):\n",
    "    if sum(all_trgt==iclass) > qtd_events_biggest_class:\n",
    "        qtd_events_biggest_class = sum(all_trgt==iclass)\n",
    "        biggest_class_label = class_label\n",
    "    print \"Qtd event of %s is %i\"%(class_label,sum(all_trgt==iclass))\n",
    "print \"\\nBiggest class is %s with %i events\"%(biggest_class_label,qtd_events_biggest_class)\n",
    "\n",
    "\n",
    "balanced_data = {}\n",
    "balanced_trgt = {}\n",
    "\n",
    "from Functions import DataHandler as dh\n",
    "m_datahandler = dh.DataHandlerFunctions()\n",
    "\n",
    "for iclass, class_label in enumerate(class_labels):\n",
    "    if len(balanced_data) == 0:\n",
    "        class_events = all_data[all_trgt==iclass,:]\n",
    "        balanced_data = m_datahandler.CreateEventsForClass(\n",
    "            class_events,qtd_events_biggest_class-(len(class_events)))\n",
    "        balanced_trgt = (iclass)*np.ones(qtd_events_biggest_class)\n",
    "    else:\n",
    "        balanced_data = np.append(balanced_data,\n",
    "                                  (m_datahandler.CreateEventsForClass(\n",
    "                    all_data[all_trgt==iclass,:],\n",
    "                    qtd_events_biggest_class-sum(all_trgt==iclass))),\n",
    "                                  axis=0)\n",
    "        balanced_trgt = np.append(balanced_trgt,\n",
    "                                  (iclass)*np.ones(qtd_events_biggest_class),axis=0)\n",
    "        \n",
    "all_data = balanced_data\n",
    "all_trgt = balanced_trgt"
   ]
  },
  {
   "cell_type": "markdown",
   "metadata": {},
   "source": [
    "## Definições do treinamento\n",
    "\n",
    "Nessa célula temos os parâmetros do treinamento a ser realizado. No log, deve ficar armazenada a data do treinamento para a reconstrução dos resultados"
   ]
  },
  {
   "cell_type": "code",
   "execution_count": 19,
   "metadata": {
    "collapsed": false
   },
   "outputs": [
    {
     "name": "stdout",
     "output_type": "stream",
     "text": [
      "CPU times: user 1 µs, sys: 0 ns, total: 1 µs\n",
      "Wall time: 3.1 µs\n",
      "Dividing data in trn and tst\n"
     ]
    },
    {
     "data": {
      "text/plain": [
       "['/home/natmourajr/Workspace/Doutorado/SonarAnalysis/Results/Classification/StackedAutoEncoder/train_info_files/2017_03_08_00_20_36_train_info.jbl']"
      ]
     },
     "execution_count": 19,
     "metadata": {},
     "output_type": "execute_result"
    }
   ],
   "source": [
    "%time\n",
    "\n",
    "from sklearn import cross_validation\n",
    "\n",
    "from Functions import LogFunctions as log\n",
    "\n",
    "# Create a entry in log file\n",
    "m_log = log.LogInformation()\n",
    "date = m_log.CreateLogEntry(\"Classification\",'StackedAutoEncoder')\n",
    "\n",
    "# Create a train information file\n",
    "n_folds = 2\n",
    "n_inits = 1\n",
    "norm = 'mapstd'\n",
    "\n",
    "train_info = {}\n",
    "train_info['n_folds'] = n_folds\n",
    "train_info['n_inits'] = n_inits\n",
    "train_info['norm'] = norm\n",
    "\n",
    "# divide data in train and test for novelty detection\n",
    "print 'Dividing data in trn and tst'\n",
    "CVO = cross_validation.StratifiedKFold(all_trgt, n_folds)\n",
    "CVO = list(CVO)\n",
    "train_info['CVO'] = CVO\n",
    "\n",
    "train_info['topologic_anal_done'] = False\n",
    "train_info['train_done'] = False\n",
    "train_info['results_done'] = False\n",
    "\n",
    "train_info_name = result_analysis_path+'/train_info_files'+'/'+date+'_train_info.jbl'\n",
    "joblib.dump([train_info],train_info_name,compress=9)"
   ]
  },
  {
   "cell_type": "code",
   "execution_count": 20,
   "metadata": {
    "collapsed": false
   },
   "outputs": [
    {
     "name": "stdout",
     "output_type": "stream",
     "text": [
      "{0: {'date': '2017_03_07_23_34_47', 'package': 'StackedAutoEncoder'}, 1: {'date': '2017_03_07_23_35_21', 'package': 'StackedAutoEncoder'}, 2: {'date': '2017_03_08_00_07_14', 'package': 'StackedAutoEncoder'}, 3: {'date': '2017_03_08_00_20_36', 'package': 'StackedAutoEncoder'}}\n"
     ]
    }
   ],
   "source": [
    "# Read log files\n",
    "from Functions import LogFunctions as log\n",
    "mlog = log.LogInformation()\n",
    "log_entries = mlog.RecoverLogEntries(package_name=\"Classification\")\n",
    "print log_entries"
   ]
  },
  {
   "cell_type": "code",
   "execution_count": 21,
   "metadata": {
    "collapsed": false
   },
   "outputs": [
    {
     "name": "stdout",
     "output_type": "stream",
     "text": [
      "Analysing train performed in 2017_03_08_00_20_36 and for StackedAutoEncoder analysis\n",
      "StackedAutoEncoder Train Info File\n",
      "Date: 2017_03_08_00_20_36\n",
      "Number of Folds: 2\n",
      "Number of Inits: 1\n",
      "Topological Analysis Done: False\n",
      "Train Done: False\n",
      "Extract Results: False\n"
     ]
    }
   ],
   "source": [
    "# Read Information of Train Info File\n",
    "choose_date = '2017_03_08_00_20_36'\n",
    "\n",
    "for log_id, log_entry in enumerate(log_entries):\n",
    "    if log_entries[log_id]['package'] != 'StackedAutoEncoder':\n",
    "        continue\n",
    "    if log_entries[log_id]['date'] != choose_date:\n",
    "        continue\n",
    "    print 'Analysing train performed in %s and for %s analysis'%(\n",
    "        log_entries[log_id]['date'],log_entries[log_id]['package'])\n",
    "    \n",
    "    # Read train info file\n",
    "    train_info_name = '%s/train_info_files/%s_train_info.jbl'%(\n",
    "        result_analysis_path,log_entries[log_id]['date'])\n",
    "    \n",
    "    [train_info] = joblib.load(train_info_name)\n",
    "    print 'StackedAutoEncoder Train Info File'\n",
    "    print 'Date: %s'%(choose_date)\n",
    "    print 'Number of Folds: %i'%(train_info['n_folds'])\n",
    "    print 'Number of Inits: %i'%(train_info['n_inits'])\n",
    "    if train_info['topologic_anal_done']:\n",
    "        print 'Topological Analysis Done: True'\n",
    "    else:\n",
    "        print 'Topological Analysis Done: False'\n",
    "    if train_info['train_done']:\n",
    "        print 'Train Done: True'\n",
    "    else:\n",
    "        print 'Train Done: False'\n",
    "    if train_info['results_done']:\n",
    "        print 'Extract Results: True'\n",
    "    else:\n",
    "        print 'Extract Results: False'"
   ]
  },
  {
   "cell_type": "markdown",
   "metadata": {},
   "source": [
    "## Stacked AutoEncoder Analysis\n"
   ]
  },
  {
   "cell_type": "markdown",
   "metadata": {},
   "source": [
    "first step: sweep the number of neurons in each layer of SAE and vary number of layers\n"
   ]
  },
  {
   "cell_type": "code",
   "execution_count": null,
   "metadata": {
    "collapsed": false
   },
   "outputs": [
    {
     "name": "stdout",
     "output_type": "stream",
     "text": [
      "CPU times: user 1e+03 ns, sys: 0 ns, total: 1e+03 ns\n",
      "Wall time: 3.81 µs\n",
      "StackedAutoEncoder analysis performed in 2017_03_08_00_20_36 and for StackedAutoEncoder analysis\n",
      "Fold: 1 of 2, neuron: 1 of 200, init: 1 of 1\n"
     ]
    }
   ],
   "source": [
    "# SAE parameters extraction\n",
    "\n",
    "# first layer\n",
    "\n",
    "%time\n",
    "\n",
    "from sklearn import preprocessing\n",
    "\n",
    "\n",
    "from keras.utils import np_utils\n",
    "from keras.models import Sequential\n",
    "from keras.layers.core import Dense, Dropout, Activation\n",
    "from keras.optimizers import SGD\n",
    "import keras.callbacks as callbacks\n",
    "\n",
    "from Functions import PreProcessing as preproc\n",
    "\n",
    "top_min = 0\n",
    "top_max = 200\n",
    "top_step = 20\n",
    "\n",
    "models = {}\n",
    "trn_descs = {}\n",
    "losses = np.zeros((train_info['n_folds'],len(range(top_min, top_max+1, top_step))))\n",
    "\n",
    "for log_id, log_entry in enumerate(log_entries):\n",
    "    if log_entries[log_id]['package'] != 'StackedAutoEncoder':\n",
    "        continue\n",
    "    if log_entries[log_id]['date'] != choose_date:\n",
    "        continue\n",
    "    print 'StackedAutoEncoder analysis performed in %s and for %s analysis'%(\n",
    "        log_entries[log_id]['date'],log_entries[log_id]['package'])\n",
    "    \n",
    "    # Read train info file\n",
    "    train_info_name = '%s/train_info_files/%s_train_info.jbl'%(\n",
    "        result_analysis_path,log_entries[log_id]['date'])\n",
    "    \n",
    "    [train_info] = joblib.load(train_info_name)\n",
    "    \n",
    "    # saving time\n",
    "    if train_info['topologic_anal_done']:\n",
    "        print 'Topological Analysis is done, just analyse it'\n",
    "        continue\n",
    "    \n",
    "    trn_params = preproc.TrnParams(learning_rate= 0.005,verbose=False,\n",
    "                                   train_verbose=True, n_epochs=300)\n",
    "    \n",
    "    for ifold in range(train_info['n_folds']):\n",
    "        train_id, test_id = train_info['CVO'][ifold]\n",
    "        \n",
    "        models[ifold] = {}\n",
    "        trn_descs[ifold] = {}\n",
    "        \n",
    "        # normalize data based in train set\n",
    "        if train_info['norm'] == 'mapstd':\n",
    "            scaler = preprocessing.StandardScaler().fit(all_data[train_id,:])\n",
    "        elif train_info['norm'] == 'mapstd_rob':\n",
    "            scaler = preprocessing.RobustScaler().fit(all_data[train_id,:])\n",
    "        elif train_info['norm'] == 'mapminmax':\n",
    "            scaler = preprocessing.MinMaxScaler().fit(all_data[train_id,:])\n",
    "        \n",
    "        norm_all_data = scaler.transform(all_data)\n",
    "        \n",
    "        neuron_count = 0\n",
    "        for ineuron in range(top_min, top_max+1, top_step):\n",
    "            if ineuron == 0:\n",
    "                ineuron = 1\n",
    "            \n",
    "            best_init = 0\n",
    "            best_loss = 999\n",
    "            \n",
    "            for i_init in range(train_info['n_inits']):\n",
    "                print ('Fold: %i of %i, neuron: %i of %i, init: %i of %i'%\n",
    "                       (ifold+1, train_info['n_folds'],ineuron, top_max,\n",
    "                        i_init+1, train_info['n_inits']))\n",
    "\n",
    "                # create model\n",
    "                model = Sequential()\n",
    "                model.add(Dense(ineuron, input_dim=norm_all_data.shape[1], init='uniform'))\n",
    "                model.add(Activation('tanh'))\n",
    "                model.add(Dense(norm_all_data.shape[1], init='uniform')) \n",
    "                model.add(Activation('tanh'))\n",
    "                \n",
    "                sgd = SGD(lr=trn_params.learning_rate, \n",
    "                          decay=trn_params.learning_decay,\n",
    "                          momentum=trn_params.momentum, \n",
    "                          nesterov=trn_params.nesterov)\n",
    "                \n",
    "                model.compile(loss='mean_squared_error', \n",
    "                              optimizer=sgd,\n",
    "                              metrics=['mean_absolute_error'])\n",
    "\n",
    "                # Early Stopping\n",
    "                earlyStopping = callbacks.EarlyStopping(monitor='val_loss', \n",
    "                                                        patience=25, \n",
    "                                                        verbose=trn_params.train_verbose, \n",
    "                                                        mode='auto')\n",
    "                # train model\n",
    "                trn_desc = model.fit(norm_all_data[train_id], \n",
    "                                     norm_all_data[train_id], \n",
    "                                     nb_epoch=trn_params.n_epochs, \n",
    "                                     batch_size=trn_params.batch_size,\n",
    "                                     callbacks=[earlyStopping], \n",
    "                                     verbose=trn_params.verbose,\n",
    "                                     validation_data=(norm_all_data[test_id],\n",
    "                                                      norm_all_data[test_id]),\n",
    "                                     shuffle=True)\n",
    "                \n",
    "                # check if train was the best one\n",
    "                if i_init == 0:\n",
    "                    trn_descs[ifold][ineuron] = trn_desc\n",
    "                    models[ifold][ineuron] = model\n",
    "                    losses[ifold,neuron_count] = np.min(trn_desc.history['val_loss'])\n",
    "                else:\n",
    "                    if np.min(trn_desc.history['val_loss']) < best_loss:\n",
    "                        best_init = i_init\n",
    "                        best_loss = np.min(trn_desc.history['val_loss'])\n",
    "                        models[ifold][ineuron] = model\n",
    "                        trn_desc[ifold] = trn_desc\n",
    "                        losses[ifold,neuron_count]= np.min(trn_desc.history['val_loss'])\n",
    "                        \n",
    "            neuron_count = neuron_count+1\n",
    "                \n",
    "        \n",
    "    \n",
    "    print 'Train done'\n",
    "    # saving file\n",
    "    \n",
    "    top_info_name = result_analysis_path+'/train_info_files'+'/'+choose_date+'_top_info.jbl'\n",
    "    joblib.dump([top_min, top_max, top_step, losses],top_info_name,compress=9)\n",
    "    \n",
    "    for ifold in range(train_info['n_folds']):\n",
    "        for ineuron in range(top_min, top_max+1, top_step):\n",
    "            if ineuron == 0:\n",
    "                ineuron = 1\n",
    "            model_name = (result_analysis_path+'/train_info_files'+'/'+\n",
    "                          choose_date+'_model_fold'+str(ifold)+\n",
    "                          '_neuron'+str(ineuron)+'.h5')\n",
    "            models[ifold][ineuron].save(model_name)\n",
    "    \n",
    "            \n",
    "    train_info_name = result_analysis_path+'/train_info_files'+'/'+choose_date+'_train_info.jbl'\n",
    "\n",
    "    train_info['topologic_anal_done'] = True\n",
    "    joblib.dump([train_info],train_info_name,compress=9)"
   ]
  },
  {
   "cell_type": "code",
   "execution_count": 94,
   "metadata": {
    "collapsed": false
   },
   "outputs": [
    {
     "data": {
      "text/plain": [
       "['/home/natmourajr/Workspace/Doutorado/SonarAnalysis/Results/Classification/StackedAutoEncoder/train_info_files/2017_03_08_00_20_36_train_info.jbl']"
      ]
     },
     "execution_count": 94,
     "metadata": {},
     "output_type": "execute_result"
    }
   ],
   "source": [
    "# to reset analysis\n",
    "train_info_name = result_analysis_path+'/train_info_files'+'/'+choose_date+'_train_info.jbl'\n",
    "\n",
    "train_info['topologic_anal_done'] = False\n",
    "joblib.dump([train_info],train_info_name,compress=9)"
   ]
  },
  {
   "cell_type": "code",
   "execution_count": 88,
   "metadata": {
    "collapsed": false
   },
   "outputs": [
    {
     "name": "stdout",
     "output_type": "stream",
     "text": [
      "CPU times: user 2 µs, sys: 1 µs, total: 3 µs\n",
      "Wall time: 4.05 µs\n",
      "StackedAutoEncoder analysis performed in 2017_03_08_00_20_36 and for StackedAutoEncoder analysis\n"
     ]
    },
    {
     "data": {
      "image/png": "[encoded data removed]",
      "text/plain": [
       "<matplotlib.figure.Figure at 0x8db4810>"
      ]
     },
     "metadata": {},
     "output_type": "display_data"
    }
   ],
   "source": [
    "# Topological analysis\n",
    "# SAE parameters extraction\n",
    "%time\n",
    "\n",
    "from sklearn import preprocessing\n",
    "\n",
    "from keras.utils import np_utils\n",
    "from keras.models import Sequential\n",
    "from keras.layers.core import Dense, Dropout, Activation\n",
    "from keras.optimizers import SGD\n",
    "import keras.callbacks as callbacks\n",
    "\n",
    "from keras.models import load_model\n",
    "\n",
    "from Functions import PreProcessing as preproc\n",
    "\n",
    "\n",
    "for log_id, log_entry in enumerate(log_entries):\n",
    "    if log_entries[log_id]['package'] != 'StackedAutoEncoder':\n",
    "        continue\n",
    "    if log_entries[log_id]['date'] != choose_date:\n",
    "        continue\n",
    "    print 'StackedAutoEncoder analysis performed in %s and for %s analysis'%(\n",
    "        log_entries[log_id]['date'],log_entries[log_id]['package'])\n",
    "    \n",
    "    # Read train info file\n",
    "    train_info_name = '%s/train_info_files/%s_train_info.jbl'%(\n",
    "        result_analysis_path,log_entries[log_id]['date'])\n",
    "    \n",
    "    [train_info] = joblib.load(train_info_name)\n",
    "    \n",
    "    # saving time\n",
    "    if not train_info['topologic_anal_done']:\n",
    "        continue\n",
    "        \n",
    "    top_info_name = result_analysis_path+'/train_info_files'+'/'+choose_date+'_top_info.jbl'\n",
    "    [top_min, top_max, top_step, losses]= joblib.load(top_info_name)\n",
    "    \n",
    "    import matplotlib.pyplot as plt\n",
    "    %matplotlib inline  \n",
    "\n",
    "    plt.rcParams['font.weight'] = 'bold'\n",
    "    plt.rcParams['xtick.labelsize'] = 18\n",
    "    plt.rcParams['ytick.labelsize'] = 18\n",
    "    plt.rcParams['legend.numpoints'] = 1\n",
    "    plt.rcParams['legend.handlelength'] = 3\n",
    "    plt.rcParams['legend.borderpad'] = 0.3\n",
    "    \n",
    "    fig1 = plt.figure(figsize=(10,6))\n",
    "\n",
    "    xtick = range(top_min, top_max+1, top_step)\n",
    "    if top_min == 0:\n",
    "        xtick[0] = 1\n",
    "    plt.errorbar(xtick,\n",
    "                  np.mean(losses,axis=0),\n",
    "                  np.std(losses,axis=0),fmt='o-',\n",
    "                  color='k',alpha=0.7,linewidth=2.5, label='MSE in val')\n",
    "    plt.xticks(xtick,rotation=45)\n",
    "    plt.xlim([top_min-1, top_max+1])\n",
    "    plt.title('MSE topological analysis for first layer of SAE',fontsize=18, fontweight='bold')\n",
    "    plt.xlabel('Neurons in layer',fontsize=18, fontweight='bold')\n",
    "    plt.ylabel('MSE value',fontsize=18, fontweight='bold')\n",
    "\n",
    "    plt.legend()\n",
    "    \n",
    "    "
   ]
  },
  {
   "cell_type": "code",
   "execution_count": 71,
   "metadata": {
    "collapsed": false
   },
   "outputs": [
    {
     "name": "stdout",
     "output_type": "stream",
     "text": [
      "[1, 10]\n"
     ]
    }
   ],
   "source": [
    "a = range(top_min, top_max+1, top_step)\n",
    "a[0]=1\n",
    "print a"
   ]
  }
 ],
 "metadata": {
  "kernelspec": {
   "display_name": "Python 2",
   "language": "python",
   "name": "python2"
  },
  "language_info": {
   "codemirror_mode": {
    "name": "ipython",
    "version": 2
   },
   "file_extension": ".py",
   "mimetype": "text/x-python",
   "name": "python",
   "nbconvert_exporter": "python",
   "pygments_lexer": "ipython2",
   "version": "2.7.5"
  }
 },
 "nbformat": 4,
 "nbformat_minor": 0
}
