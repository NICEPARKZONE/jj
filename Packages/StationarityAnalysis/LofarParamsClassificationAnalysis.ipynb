{
 "cells": [
  {
   "cell_type": "markdown",
   "metadata": {},
   "source": [
    "## Projeto Sonar\n",
    "### Análise de estacionaridade para diferentes janelamentos. \n",
    "#### Dataset: 4classes\n",
    "#### Autor: Pedro Henrique Braga Lisboa (pedrohblisboa@gmail.com)\n",
    "#### Laboratorio de Processamento de Sinais - UFRJ"
   ]
  },
  {
   "cell_type": "code",
   "execution_count": 2,
   "metadata": {},
   "outputs": [
    {
     "name": "stderr",
     "output_type": "stream",
     "text": [
      "Using TensorFlow backend.\n"
     ]
    }
   ],
   "source": [
    "import sys\n",
    "import os\n",
    "import joblib\n",
    "import numpy as np\n",
    "import pandas as pd\n",
    "#sys.path.extend(['/home/pedrolisboa/Workspace/lps/LpsToolbox'])\n",
    "from itertools import starmap\n",
    "from Functions.DataHandler import LofarDataset\n",
    "from Functions.ConvolutionalNeuralNetworks import MLPClassifier\n",
    "from sklearn.model_selection import StratifiedKFold, cross_validate\n",
    "from sklearn.preprocessing import StandardScaler\n",
    "from keras.utils import to_categorical\n",
    "from itertools import repeat\n",
    "datapath = os.getenv('OUTPUTDATAPATH')\n",
    "audiodatapath = os.getenv('INPUTDATAPATH')\n",
    "results_path = os.getenv('PACKAGE_NAME')\n",
    "database = '4classes'"
   ]
  },
  {
   "cell_type": "code",
   "execution_count": 3,
   "metadata": {},
   "outputs": [],
   "source": [
    "# Load LOFAR data\n",
    "#dataobj = LofarDataset(data_path=datapath)\n",
    "def factor2(num):\n",
    "    if num % 2 != 0:\n",
    "        return [num // 2]\n",
    "    factors = [num//2]\n",
    "    factors.extend(factor2(num//2))\n",
    "    return factors\n",
    "\n",
    "#window_list = map(lambda e: pow(2,e), range(7,13,1))\n",
    "#overlap_list = map(factor2, window_list)\n",
    "window_list = [1024]\n",
    "overlap_list = [0]\n",
    "decimation_rate = 3\n",
    "spectrum_bins_left = 400"
   ]
  },
  {
   "cell_type": "code",
   "execution_count": 4,
   "metadata": {},
   "outputs": [
    {
     "data": {
      "text/plain": [
       "array([-0.19999996, -0.19999994, -0.19999994, ...,  1.68971947,\n",
       "        1.69386689,  1.70014497])"
      ]
     },
     "execution_count": 4,
     "metadata": {},
     "output_type": "execute_result"
    }
   ],
   "source": [
    "lofar = LofarDataset(datapath)\n",
    "X, y, class_labels = lofar.loadData(database, window_list[0], overlap_list[0], decimation_rate, spectrum_bins_left)\n",
    "if np.argwhere(np.isnan(X)).shape[0] > 0:\n",
    "    X = np.concatenate([X[:426443], X[426444:]], axis=0)\n",
    "np.unique(X)\n",
    "# np.argwhere(np.isnan(X))"
   ]
  },
  {
   "cell_type": "code",
   "execution_count": 5,
   "metadata": {},
   "outputs": [],
   "source": [
    "def lofar_iter(estimator, fold_fun, dataset_obj, train_fun, verbose):\n",
    "    results = {'window': [],\n",
    "               'overlap': [],\n",
    "               'fold': [],\n",
    "               'scores': []}\n",
    "    for window, overlap in zip(window_list, overlap_list):\n",
    "        if verbose:\n",
    "            print('Window: %i  Overlap: %i' % (window, overlap))\n",
    "        X, y, class_labels = lofar.loadData(database, window, overlap, decimation_rate, spectrum_bins_left)\n",
    "        cvo_file = os.path.join(results_path, \n",
    "                                'db_%s_window_%i_overlap_%i_dec_%i_bins_%i_skf.jbl' % (database, \n",
    "                                                                                     window, \n",
    "                                                                                     overlap, \n",
    "                                                                                     decimation_rate, \n",
    "                                                                                     spectrum_bins_left))\n",
    "        if os.path.exists(cvo_file):\n",
    "            if verbose:\n",
    "                print('\\tLoading cross validation configuration')\n",
    "            cvo = joblib.load(cvo_file)\n",
    "        else:\n",
    "            if verbose:\n",
    "                print('\\tCreating cross validation configuration')\n",
    "            cvo = list(skf.split(X, y))\n",
    "            joblib.dump(cvo, cvo_file)\n",
    "        cachedir = cvo_file[:-4]\n",
    "        partial_results = train_fun(X,y, cvo, estimator, verbose, cachedir)\n",
    "        \n",
    "        results['window'] = list(repeat(window, len(partial_results['scores'])))\n",
    "        results['overlap'] = list(repeat(overlap, len(partial_results['scores'])))\n",
    "        for key in partial_results:\n",
    "            results[key].extend(partial_results[key])\n",
    "            \n",
    "        return results\n",
    "        \n",
    "        \n"
   ]
  },
  {
   "cell_type": "code",
   "execution_count": 6,
   "metadata": {},
   "outputs": [],
   "source": [
    "from Functions.NpUtils.Scores import spIndex, recall_score\n",
    "from sklearn.metrics import make_scorer\n",
    "scoring = {'sp': spIndex}\n",
    "scaler = StandardScaler()\n",
    "import ipyparallel as ipp\n",
    "import dill\n",
    "# c = ipp.Client(profile='ssh', sshserver='pedro.lisboa@ferney.lps.ufrj.br')\n",
    "# c[:].use_dill()\n",
    "# dview = c[:]\n",
    "def novelty_detectionCV(X, y, cvo, estimator, verbose, cachedir):\n",
    "    scores = list()\n",
    "    fold = list()\n",
    "    def train_fold(data):\n",
    "        i_fold, train, test = data\n",
    "        if verbose:\n",
    "            print('\\t\\t Fold %i' % i_fold)\n",
    "        X_train = X[train]\n",
    "        y_train = y[train]\n",
    "\n",
    "        X_test = X[test]\n",
    "        y_test = y[test]\n",
    "        scaler.fit(X_train, y_train)\n",
    "        X_train = scaler.transform(X_train)\n",
    "        X_test = scaler.transform(X_test)\n",
    "\n",
    "        y_train = to_categorical(y_train)\n",
    "        y_test = to_categorical(y_test)\n",
    "\n",
    "        estimator.cachedir = os.path.join(cachedir, '%i_fold' % i_fold)\n",
    "        estimator.fit(X_train, y_train,\n",
    "                      validation_split=0.2,\n",
    "                      n_inits=10,\n",
    "                      verbose=verbose)\n",
    "        score = estimator.score(X_test, y_test)\n",
    "        return (i_fold, score)\n",
    "#         scores.append(score)\n",
    "#         fold.append(i_fold)\n",
    "    results = map(train_fold, [(i_fold, train, test) for i_fold, (train, test) in enumerate(cvo)])\n",
    "    #results = dview.map_sync(train_fold, [(i_fold, train, test) for i_fold, (train, test) in enumerate(cvo)])\n",
    "    fold,scores = map(list,zip(*results))\n",
    "    return {'fold': fold,\n",
    "            'scores': scores}\n",
    "            \n",
    "    "
   ]
  },
  {
   "cell_type": "code",
   "execution_count": null,
   "metadata": {},
   "outputs": [
    {
     "name": "stdout",
     "output_type": "stream",
     "text": [
      "Window: 1024  Overlap: 0\n",
      "\tLoading cross validation configuration\n",
      "\t\t Fold 0\n",
      "{0: 0.8895663374838987, 1: 0.39214869775893396, 2: 1.0, 3: 0.48442760942760943}\n",
      "[{'verbose': 0, 'filepath': '/home/pedrolisboa/Workspace/lps/SonarAnalysis/Results/StationarityAnalysis/db_4classes_window_1024_overlap_0_dec_3_bins_400_skf/0_fold/d8c968eccdba084377d104a005ef26fe1766e791311b569c2590034a8c9f5c9fc15404707dc34953348e83097d63d42f161cc0df8c60b80ea824ea6e4fe3b598_400/end_weights', 'period': 1, 'save_weights_only': False, 'mode': 'auto', 'type': 'ModelCheckpoint', 'monitor': 'val_loss'}, {'save_best_only': True, 'monitor': 'val_loss', 'filepath': '/home/pedrolisboa/Workspace/lps/SonarAnalysis/Results/StationarityAnalysis/db_4classes_window_1024_overlap_0_dec_3_bins_400_skf/0_fold/d8c968eccdba084377d104a005ef26fe1766e791311b569c2590034a8c9f5c9fc15404707dc34953348e83097d63d42f161cc0df8c60b80ea824ea6e4fe3b598_400/best_weights', 'mode': 'auto', 'save_weights_only': False, 'type': 'ModelCheckpoint', 'period': 1, 'verbose': 0}, {'type': 'CSVLogger', 'filename': '/home/pedrolisboa/Workspace/lps/SonarAnalysis/Results/StationarityAnalysis/db_4classes_window_1024_overlap_0_dec_3_bins_400_skf/0_fold/d8c968eccdba084377d104a005ef26fe1766e791311b569c2590034a8c9f5c9fc15404707dc34953348e83097d63d42f161cc0df8c60b80ea824ea6e4fe3b598_400/history.csv'}]\n",
      "Model trained, loading best weights\n",
      "\t\t Fold 1\n",
      "{0: 0.8895663374838987, 1: 0.39214869775893396, 2: 1.0, 3: 0.48442760942760943}\n",
      "[{'verbose': 0, 'filepath': '/home/pedrolisboa/Workspace/lps/SonarAnalysis/Results/StationarityAnalysis/db_4classes_window_1024_overlap_0_dec_3_bins_400_skf/1_fold/d8c968eccdba084377d104a005ef26fe1766e791311b569c2590034a8c9f5c9fc15404707dc34953348e83097d63d42f161cc0df8c60b80ea824ea6e4fe3b598_400/end_weights', 'period': 1, 'save_weights_only': False, 'mode': 'auto', 'type': 'ModelCheckpoint', 'monitor': 'val_loss'}, {'save_best_only': True, 'monitor': 'val_loss', 'filepath': '/home/pedrolisboa/Workspace/lps/SonarAnalysis/Results/StationarityAnalysis/db_4classes_window_1024_overlap_0_dec_3_bins_400_skf/1_fold/d8c968eccdba084377d104a005ef26fe1766e791311b569c2590034a8c9f5c9fc15404707dc34953348e83097d63d42f161cc0df8c60b80ea824ea6e4fe3b598_400/best_weights', 'mode': 'auto', 'save_weights_only': False, 'type': 'ModelCheckpoint', 'period': 1, 'verbose': 0}, {'type': 'CSVLogger', 'filename': '/home/pedrolisboa/Workspace/lps/SonarAnalysis/Results/StationarityAnalysis/db_4classes_window_1024_overlap_0_dec_3_bins_400_skf/1_fold/d8c968eccdba084377d104a005ef26fe1766e791311b569c2590034a8c9f5c9fc15404707dc34953348e83097d63d42f161cc0df8c60b80ea824ea6e4fe3b598_400/history.csv'}]\n",
      "Train on 55843 samples, validate on 13961 samples\n",
      "Epoch 1/100\n",
      "55843/55843 [==============================] - 2s 39us/step - loss: 0.0806 - acc: 0.6552 - val_loss: 0.1521 - val_acc: 0.0575\n",
      "Epoch 2/100\n",
      "55843/55843 [==============================] - 2s 33us/step - loss: 0.0523 - acc: 0.7831 - val_loss: 0.1400 - val_acc: 0.1422\n",
      "Epoch 3/100\n",
      "55843/55843 [==============================] - 2s 32us/step - loss: 0.0485 - acc: 0.7991 - val_loss: 0.1422 - val_acc: 0.1544\n",
      "Epoch 4/100\n",
      "55843/55843 [==============================] - 2s 35us/step - loss: 0.0475 - acc: 0.8037 - val_loss: 0.1405 - val_acc: 0.1629\n",
      "Epoch 5/100\n",
      "55843/55843 [==============================] - 2s 32us/step - loss: 0.0470 - acc: 0.8045 - val_loss: 0.1391 - val_acc: 0.1654\n",
      "Epoch 6/100\n",
      "55843/55843 [==============================] - 2s 35us/step - loss: 0.0468 - acc: 0.8069 - val_loss: 0.1429 - val_acc: 0.1520\n",
      "Epoch 7/100\n",
      "55843/55843 [==============================] - 2s 37us/step - loss: 0.0466 - acc: 0.8068 - val_loss: 0.1423 - val_acc: 0.1581\n",
      "Epoch 8/100\n",
      "11712/55843 [=====>........................] - ETA: 1s - loss: 0.0455 - acc: 0.8128"
     ]
    }
   ],
   "source": [
    "import time\n",
    "verbose = 1\n",
    "lofar = LofarDataset(datapath)\n",
    "skf = StratifiedKFold(n_splits=10)\n",
    "estimator = MLPClassifier(layer_sizes=(10,4),\n",
    "                          activations=('relu', 'tanh'),\n",
    "                          input_shape=(400,),\n",
    "                          solver=\"sgd\",\n",
    "                          loss=\"mean_squared_error\",\n",
    "                          epochs=100)\n",
    "start = time.time()\n",
    "results = lofar_iter(estimator, skf, lofar, novelty_detectionCV, verbose)\n",
    "stop = time.time()\n",
    "\n",
    "print stop - start"
   ]
  },
  {
   "cell_type": "code",
   "execution_count": null,
   "metadata": {},
   "outputs": [],
   "source": [
    "import pandas as pd\n",
    "pd.DataFrame(results)\n",
    "# results['window'] = list(results['window'])\n",
    "# results['overlap'] = list(results['overlap'])"
   ]
  },
  {
   "cell_type": "code",
   "execution_count": 3,
   "metadata": {},
   "outputs": [
    {
     "ename": "SSHException",
     "evalue": "The authenticity of the host can't be established.",
     "output_type": "error",
     "traceback": [
      "\u001b[0;31m---------------------------------------------------------------------------\u001b[0m",
      "\u001b[0;31mSSHException\u001b[0m                              Traceback (most recent call last)",
      "\u001b[0;32m<ipython-input-3-bc7a200d218a>\u001b[0m in \u001b[0;36m<module>\u001b[0;34m()\u001b[0m\n\u001b[1;32m      1\u001b[0m \u001b[0;32mimport\u001b[0m \u001b[0mipyparallel\u001b[0m \u001b[0;32mas\u001b[0m \u001b[0mipp\u001b[0m\u001b[0;34m\u001b[0m\u001b[0m\n\u001b[0;32m----> 2\u001b[0;31m \u001b[0mc\u001b[0m \u001b[0;34m=\u001b[0m \u001b[0mipp\u001b[0m\u001b[0;34m.\u001b[0m\u001b[0mClient\u001b[0m\u001b[0;34m(\u001b[0m\u001b[0mprofile\u001b[0m\u001b[0;34m=\u001b[0m\u001b[0;34m'ssh'\u001b[0m\u001b[0;34m,\u001b[0m \u001b[0msshserver\u001b[0m\u001b[0;34m=\u001b[0m\u001b[0;34m'pedro.lisboa@ferney.lps.ufrj.br'\u001b[0m\u001b[0;34m)\u001b[0m\u001b[0;34m\u001b[0m\u001b[0m\n\u001b[0m",
      "\u001b[0;32m/home/pedrolisboa/.virtualenvs/.virtualenvs/lps/local/lib/python2.7/site-packages/ipyparallel/client/client.pyc\u001b[0m in \u001b[0;36m__init__\u001b[0;34m(self, url_file, profile, profile_dir, ipython_dir, context, debug, sshserver, sshkey, password, paramiko, timeout, cluster_id, **extra_args)\u001b[0m\n\u001b[1;32m    469\u001b[0m         \u001b[0;32mif\u001b[0m \u001b[0mself\u001b[0m\u001b[0;34m.\u001b[0m\u001b[0m_ssh\u001b[0m \u001b[0;32mand\u001b[0m \u001b[0mpassword\u001b[0m \u001b[0;32mis\u001b[0m \u001b[0mNone\u001b[0m\u001b[0;34m:\u001b[0m\u001b[0;34m\u001b[0m\u001b[0m\n\u001b[1;32m    470\u001b[0m             \u001b[0;32mfrom\u001b[0m \u001b[0mzmq\u001b[0m\u001b[0;34m.\u001b[0m\u001b[0mssh\u001b[0m \u001b[0;32mimport\u001b[0m \u001b[0mtunnel\u001b[0m\u001b[0;34m\u001b[0m\u001b[0m\n\u001b[0;32m--> 471\u001b[0;31m             \u001b[0;32mif\u001b[0m \u001b[0mtunnel\u001b[0m\u001b[0;34m.\u001b[0m\u001b[0mtry_passwordless_ssh\u001b[0m\u001b[0;34m(\u001b[0m\u001b[0msshserver\u001b[0m\u001b[0;34m,\u001b[0m \u001b[0msshkey\u001b[0m\u001b[0;34m,\u001b[0m \u001b[0mparamiko\u001b[0m\u001b[0;34m)\u001b[0m\u001b[0;34m:\u001b[0m\u001b[0;34m\u001b[0m\u001b[0m\n\u001b[0m\u001b[1;32m    472\u001b[0m                 \u001b[0mpassword\u001b[0m\u001b[0;34m=\u001b[0m\u001b[0mFalse\u001b[0m\u001b[0;34m\u001b[0m\u001b[0m\n\u001b[1;32m    473\u001b[0m             \u001b[0;32melse\u001b[0m\u001b[0;34m:\u001b[0m\u001b[0;34m\u001b[0m\u001b[0m\n",
      "\u001b[0;32m/home/pedrolisboa/.virtualenvs/.virtualenvs/lps/local/lib/python2.7/site-packages/zmq/ssh/tunnel.pyc\u001b[0m in \u001b[0;36mtry_passwordless_ssh\u001b[0;34m(server, keyfile, paramiko)\u001b[0m\n\u001b[1;32m     72\u001b[0m     \u001b[0;32melse\u001b[0m\u001b[0;34m:\u001b[0m\u001b[0;34m\u001b[0m\u001b[0m\n\u001b[1;32m     73\u001b[0m         \u001b[0mf\u001b[0m \u001b[0;34m=\u001b[0m \u001b[0m_try_passwordless_paramiko\u001b[0m\u001b[0;34m\u001b[0m\u001b[0m\n\u001b[0;32m---> 74\u001b[0;31m     \u001b[0;32mreturn\u001b[0m \u001b[0mf\u001b[0m\u001b[0;34m(\u001b[0m\u001b[0mserver\u001b[0m\u001b[0;34m,\u001b[0m \u001b[0mkeyfile\u001b[0m\u001b[0;34m)\u001b[0m\u001b[0;34m\u001b[0m\u001b[0m\n\u001b[0m\u001b[1;32m     75\u001b[0m \u001b[0;34m\u001b[0m\u001b[0m\n\u001b[1;32m     76\u001b[0m \u001b[0;32mdef\u001b[0m \u001b[0m_try_passwordless_openssh\u001b[0m\u001b[0;34m(\u001b[0m\u001b[0mserver\u001b[0m\u001b[0;34m,\u001b[0m \u001b[0mkeyfile\u001b[0m\u001b[0;34m)\u001b[0m\u001b[0;34m:\u001b[0m\u001b[0;34m\u001b[0m\u001b[0m\n",
      "\u001b[0;32m/home/pedrolisboa/.virtualenvs/.virtualenvs/lps/local/lib/python2.7/site-packages/zmq/ssh/tunnel.pyc\u001b[0m in \u001b[0;36m_try_passwordless_openssh\u001b[0;34m(server, keyfile)\u001b[0m\n\u001b[1;32m     93\u001b[0m             \u001b[0mi\u001b[0m \u001b[0;34m=\u001b[0m \u001b[0mp\u001b[0m\u001b[0;34m.\u001b[0m\u001b[0mexpect\u001b[0m\u001b[0;34m(\u001b[0m\u001b[0;34m[\u001b[0m\u001b[0mssh_newkey\u001b[0m\u001b[0;34m,\u001b[0m \u001b[0m_password_pat\u001b[0m\u001b[0;34m]\u001b[0m\u001b[0;34m,\u001b[0m \u001b[0mtimeout\u001b[0m\u001b[0;34m=\u001b[0m\u001b[0;36m.1\u001b[0m\u001b[0;34m)\u001b[0m\u001b[0;34m\u001b[0m\u001b[0m\n\u001b[1;32m     94\u001b[0m             \u001b[0;32mif\u001b[0m \u001b[0mi\u001b[0m\u001b[0;34m==\u001b[0m\u001b[0;36m0\u001b[0m\u001b[0;34m:\u001b[0m\u001b[0;34m\u001b[0m\u001b[0m\n\u001b[0;32m---> 95\u001b[0;31m                 \u001b[0;32mraise\u001b[0m \u001b[0mSSHException\u001b[0m\u001b[0;34m(\u001b[0m\u001b[0;34m'The authenticity of the host can\\'t be established.'\u001b[0m\u001b[0;34m)\u001b[0m\u001b[0;34m\u001b[0m\u001b[0m\n\u001b[0m\u001b[1;32m     96\u001b[0m         \u001b[0;32mexcept\u001b[0m \u001b[0mpexpect\u001b[0m\u001b[0;34m.\u001b[0m\u001b[0mTIMEOUT\u001b[0m\u001b[0;34m:\u001b[0m\u001b[0;34m\u001b[0m\u001b[0m\n\u001b[1;32m     97\u001b[0m             \u001b[0;32mcontinue\u001b[0m\u001b[0;34m\u001b[0m\u001b[0m\n",
      "\u001b[0;31mSSHException\u001b[0m: The authenticity of the host can't be established."
     ]
    }
   ],
   "source": [
    "import ipyparallel as ipp\n",
    "c = ipp.Client(profile='ssh', sshserver='pedro.lisboa@ferney.lps.ufrj.br')"
   ]
  },
  {
   "cell_type": "code",
   "execution_count": 13,
   "metadata": {},
   "outputs": [
    {
     "data": {
      "text/plain": [
       "[0, 1, 2, 3, 4, 5, 6, 7]"
      ]
     },
     "execution_count": 13,
     "metadata": {},
     "output_type": "execute_result"
    }
   ],
   "source": [
    "c.ids"
   ]
  },
  {
   "cell_type": "code",
   "execution_count": null,
   "metadata": {},
   "outputs": [],
   "source": [
    "c[:].map_sync()"
   ]
  }
 ],
 "metadata": {
  "kernelspec": {
   "display_name": "lps",
   "language": "python",
   "name": "lps"
  },
  "language_info": {
   "codemirror_mode": {
    "name": "ipython",
    "version": 2
   },
   "file_extension": ".py",
   "mimetype": "text/x-python",
   "name": "python",
   "nbconvert_exporter": "python",
   "pygments_lexer": "ipython2",
   "version": "2.7.12"
  }
 },
 "nbformat": 4,
 "nbformat_minor": 2
}
