{
 "cells": [
  {
   "cell_type": "code",
   "execution_count": 1,
   "metadata": {
    "collapsed": true
   },
   "outputs": [],
   "source": [
    "# Projeto Marinha do Brasil\n",
    "\n",
    "# Autor: Natanael Junior (natmourajr@gmail.com)\n",
    "# Laboratorio de Processamento de Sinais - UFRJ"
   ]
  },
  {
   "cell_type": "code",
   "execution_count": 1,
   "metadata": {
    "collapsed": false
   },
   "outputs": [
    {
     "name": "stdout",
     "output_type": "stream",
     "text": [
      "Time to import all libraries: 4.51343822479 seconds\n",
      "Time to read data file: 7.43266487122 seconds\n"
     ]
    }
   ],
   "source": [
    "import os\n",
    "import pickle\n",
    "import numpy as np\n",
    "import time\n",
    "\n",
    "init_time = time.time()\n",
    "\n",
    "from sklearn import preprocessing\n",
    "from sklearn import cross_validation\n",
    "from sklearn import svm\n",
    "from sklearn.decomposition import PCA\n",
    "from sklearn.externals import joblib\n",
    "\n",
    "m_time = time.time()\n",
    "print 'Time to import all libraries: '+str(m_time-init_time)+' seconds'\n",
    "\n",
    "outputpath = os.environ['OUTPUTDATAPATH']\n",
    "main_analysis_path = os.environ['SONAR_WORKSPACE']\n",
    "log_analysis_path = os.environ['PACKAGE_OUTPUT']\n",
    "result_analysis_path = os.environ['PACKAGE_OUTPUT']+'/PCDSingleClassSVM'\n",
    "# Read data\n",
    "# Check if LofarData has created...\n",
    "m_time = time.time()\n",
    "\n",
    "\n",
    "subfolder = '4classes'\n",
    "n_pts_fft = 1024\n",
    "decimation_rate = 3\n",
    "\n",
    "if(not os.path.exists(outputpath+'/'+'LofarData_%s_%i_fft_pts_%i_decimation_rate.pickle'%(\n",
    "            subfolder,n_pts_fft,decimation_rate))):\n",
    "    print outputpath+'/'+'LofarData_%s_%i_fft_pts_%i_decimation_rate.pickle'%(\n",
    "        subfolder,n_pts_fft,decimation_rate)+' doesnt exist...please create it'\n",
    "    exit()\n",
    "    \n",
    "#Read lofar data\n",
    "[data,class_labels] = pickle.load(open(outputpath+'/'+'LofarData_%s_%i_fft_pts_%i_decimation_rate.pickle'%(\n",
    "            subfolder,n_pts_fft,decimation_rate), \"rb\" ))\n",
    "m_time = time.time()-m_time\n",
    "print 'Time to read data file: '+str(m_time)+' seconds'"
   ]
  },
  {
   "cell_type": "markdown",
   "metadata": {},
   "source": [
    "# Train process\n",
    "## The train will modify one file and create three different files\n",
    "\n",
    "### Log File:\n",
    "This file will store basic information of all Package's trains and it will guide the analyses file to recognize which train information file should load. In each train this file should be appended with a new line contend the basic information to find the train information file (TXT FORMAT) or (PYTHON FORMAT) - This file should be access by all programs (MatLab and Python) for Analysis\n",
    "\n",
    "### Train Information File\n",
    "This file will store full information of the train performed (all parameters) in its name (each train information file will have a different name). And it will guide which train classifier file or which train result file should be open for analysis (TXT FORMAT) or (PYTHON FORMAT) - This file should be access by all programs (MatLab and Python) for Analysis\n",
    "\n",
    "### Train Classifier File\n",
    "This file will store the classifier after train, the folds information and the train evolution (when this exists) (NATIVE FORMAT) or (PYTHON FORMAT) - This file should not be access by all programs\n",
    "\n",
    "### Train Result File\n",
    "This file will store the classifier result for all data and classification target (TXT FORMAT) or (PYTHON FORMAT) - This file should be access by all programs (MatLab and Python) for Analysis\n",
    "\n",
    "### Train Preprocessing File\n",
    "This file will store the preprocesing after train, the folds information and the train evolution (when this exists) (NATIVE FORMAT) or (PYTHON FORMAT) - This file should not be access by all programs\n",
    "\n"
   ]
  },
  {
   "cell_type": "code",
   "execution_count": 2,
   "metadata": {
    "collapsed": false
   },
   "outputs": [
    {
     "name": "stdout",
     "output_type": "stream",
     "text": [
      "Novelty: ClassA - ifold 0 of 5\n",
      "Train Function\n",
      "Starting Train Process with the follow parameters:\n"
     ]
    },
    {
     "name": "stderr",
     "output_type": "stream",
     "text": [
      "/Users/natmourajr/Workspace/Doutorado/SonarAnalysis/Functions/MultiLayerPerceptron.py:528: FutureWarning: comparison to `None` will result in an elementwise object comparison in the future.\n",
      "  if self.trn_params.itrn == None:\n"
     ]
    },
    {
     "name": "stdout",
     "output_type": "stream",
     "text": [
      "\n",
      "\n",
      "Training...\n",
      "Epoch 0200 - trn Cost: 0.069 - tst Cost: 0.209 - val Cost: 0.209 - Best Epoch: 0200 - val Cost: 0.209\n",
      "Final Epoch  254  - trn Cost:  0.0689622851631\n",
      "Novelty: ClassB - ifold 0 of 5\n",
      "Train Function\n",
      "Starting Train Process with the follow parameters:\n",
      "\n",
      "\n",
      "Training...\n",
      "Epoch 0200 - trn Cost: 0.079 - tst Cost: 0.154 - val Cost: 0.154 - Best Epoch: 0200 - val Cost: 0.154\n",
      "Final Epoch  358  - trn Cost:  0.0769199400105\n",
      "Novelty: ClassC - ifold 0 of 5\n",
      "Train Function\n",
      "Starting Train Process with the follow parameters:\n",
      "\n",
      "\n",
      "Training...\n",
      "Epoch 0200 - trn Cost: 0.073 - tst Cost: 0.164 - val Cost: 0.164 - Best Epoch: 0200 - val Cost: 0.164\n",
      "Epoch 0400 - trn Cost: 0.072 - tst Cost: 0.160 - val Cost: 0.160 - Best Epoch: 0400 - val Cost: 0.160\n",
      "Epoch 0600 - trn Cost: 0.072 - tst Cost: 0.158 - val Cost: 0.158 - Best Epoch: 0600 - val Cost: 0.158\n",
      "Epoch 0800 - trn Cost: 0.072 - tst Cost: 0.158 - val Cost: 0.158 - Best Epoch: 0800 - val Cost: 0.158\n",
      "Epoch 1000 - trn Cost: 0.072 - tst Cost: 0.158 - val Cost: 0.158 - Best Epoch: 1000 - val Cost: 0.158\n",
      "Novelty: ClassD - ifold 0 of 5\n",
      "Train Function\n",
      "Starting Train Process with the follow parameters:\n",
      "\n",
      "\n",
      "Training...\n",
      "Final Epoch  187  - trn Cost:  0.0848737922845\n"
     ]
    },
    {
     "data": {
      "text/plain": [
       "['/Users/natmourajr/Workspace/Doutorado/SonarAnalysis/Results/NoveltyDetection/PCDSingleClassSVM/train_info_files/2016_07_15_17_57_42_preprocessing_train_info.jbl']"
      ]
     },
     "execution_count": 2,
     "metadata": {},
     "output_type": "execute_result"
    }
   ],
   "source": [
    "# Train Process\n",
    "from Functions import LogFunctions as log\n",
    "from Functions import MultiLayerPerceptron as mlpLib\n",
    "\n",
    "# to be deleted!!!\n",
    "import time\n",
    "date = time.strftime(\"%Y_%m_%d_%H_%M_%S\")\n",
    "\n",
    "# Create a entry in log file\n",
    "#m_log = log.LogInformation()\n",
    "#date = m_log.CreateLogEntry(\"NoveltyDetection\",'PCDSingleClassSVM')\n",
    "\n",
    "# Create a train information file\n",
    "n_folds = 5\n",
    "n_pcds = 2  # number of PCD to be extracted\n",
    "norm = 'mapstd'\n",
    "\n",
    "train_info = {}\n",
    "train_info['n_folds'] = n_folds\n",
    "train_info['n_pcds'] = n_pcds\n",
    "train_info['norm'] = norm\n",
    "\n",
    "train_info_name = result_analysis_path+'/train_info_files'+'/'+date+'_preprocessing_train_info.jbl'\n",
    "class_info_name = result_analysis_path+'/classifiers_files'+'/'+date+'_preprocessing.jbl'\n",
    "\n",
    "# Collecting data\n",
    "all_data = {};\n",
    "all_trgt = {};\n",
    "\n",
    "class_ids = []\n",
    "\n",
    "for iclass, class_label in enumerate(class_labels):\n",
    "    class_ids = np.append(class_ids, iclass)\n",
    "    for irun in range(len(data[iclass])):\n",
    "        if len(all_data) == 0:\n",
    "            all_data = data[iclass][irun]['Signal']\n",
    "            all_trgt = (iclass)*np.ones(data[iclass][irun]['Signal'].shape[1])\n",
    "        else:\n",
    "            all_data = np.append(all_data,data[iclass][irun]['Signal'],axis=1)\n",
    "            all_trgt = np.append(all_trgt,(iclass)*np.ones(data[iclass][irun]['Signal'].shape[1]),axis=0)\n",
    "\n",
    "all_data = all_data.transpose()\n",
    "\n",
    "for novelty_class, novelty_label in enumerate(class_labels):\n",
    "    train_data = all_data[all_trgt!=novelty_class,:]\n",
    "    train_trgt = all_trgt[all_trgt!=novelty_class]\n",
    "    \n",
    "    # creating max sparse trgt\n",
    "    sparse_all_trgt = np.zeros([train_data.shape[0],len(class_labels)-1])\n",
    "    for iclass, class_label in enumerate(class_labels):\n",
    "        if iclass == novelty_class: continue\n",
    "        sparse_all_trgt[train_trgt==iclass,iclass-(iclass>novelty_class)] = 1\n",
    "        \n",
    "        \n",
    "    # Cross validation\n",
    "    CVO = cross_validation.StratifiedKFold(train_trgt, n_folds)\n",
    "    CVO = list(CVO)\n",
    "    train_info['CVO_%s'%(novelty_label)] = CVO\n",
    "    \n",
    "    for ifold in range(len(CVO)):\n",
    "        print '\\nNovelty: %s - ifold %i of %i'%(novelty_label,ifold,len(CVO))\n",
    "        # split data in trn set, tst set\n",
    "        train_id, test_id = CVO[ifold]\n",
    "        \n",
    "    \n",
    "joblib.dump([train_info],train_info_name,compress=9)"
   ]
  },
  {
   "cell_type": "code",
   "execution_count": 77,
   "metadata": {
    "collapsed": false
   },
   "outputs": [
    {
     "name": "stdout",
     "output_type": "stream",
     "text": [
      "(17926, 3)\n",
      "(17926, 400)\n"
     ]
    }
   ],
   "source": [
    "print train_data.shape[1]\n",
    "print train_data.shape"
   ]
  }
 ],
 "metadata": {
  "kernelspec": {
   "display_name": "Python 2",
   "language": "python",
   "name": "python2"
  },
  "language_info": {
   "codemirror_mode": {
    "name": "ipython",
    "version": 2
   },
   "file_extension": ".py",
   "mimetype": "text/x-python",
   "name": "python",
   "nbconvert_exporter": "python",
   "pygments_lexer": "ipython2",
   "version": "2.7.6"
  }
 },
 "nbformat": 4,
 "nbformat_minor": 0
}
