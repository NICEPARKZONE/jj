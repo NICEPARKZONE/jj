{
 "cells": [
  {
   "cell_type": "markdown",
   "metadata": {},
   "source": [
    "# Projeto Marinha do Brasil\n",
    "\n",
    "## Laboratório de Processamento de Sinais - UFRJ\n",
    "\n",
    "### Autor: Vinícius dos Santos Mello <viniciusdsmello@poli.ufrj.br>"
   ]
  },
  {
   "cell_type": "code",
   "execution_count": 2,
   "metadata": {},
   "outputs": [
    {
     "name": "stdout",
     "output_type": "stream",
     "text": [
      "Time to import all libraries: 1.90734863281e-05 seconds\n",
      "Time to read data file: 0.939898014069 seconds\n",
      "Qtd event of 0 is 12939\n",
      "Qtd event of 1 is 29352\n",
      "Qtd event of 2 is 11510\n",
      "Qtd event of 3 is 23760\n",
      "\n",
      "Biggest class is 1 with 29352 events\n",
      "DataHandler Class: CreateEventsForClass\n",
      "Original Size: (12939, 400)\n",
      "DataHandler Class: CreateEventsForClass\n",
      "Original Size: (29352, 400)\n",
      "DataHandler Class: CreateEventsForClass\n",
      "Original Size: (11510, 400)\n",
      "DataHandler Class: CreateEventsForClass\n",
      "Original Size: (23760, 400)\n"
     ]
    }
   ],
   "source": [
    "import os\n",
    "import sys\n",
    "import pickle\n",
    "import numpy as np\n",
    "import time\n",
    "\n",
    "from keras.utils import np_utils\n",
    "from keras.models import load_model\n",
    "\n",
    "import sklearn.metrics\n",
    "from sklearn.externals import joblib\n",
    "\n",
    "from Functions import TrainParameters as trnparams\n",
    "from Functions import TrainFunctions\n",
    "from Functions.StackedAutoEncoders import StackedAutoEncoders\n",
    "\n",
    "import multiprocessing\n",
    "\n",
    "init_time = time.time()\n",
    "\n",
    "m_time = time.time()\n",
    "print 'Time to import all libraries: '+str(m_time-init_time)+' seconds'\n",
    "\n",
    "analysis_name = 'StackedAutoEncoder'\n",
    "\n",
    "# Enviroment variables\n",
    "data_path = os.getenv('OUTPUTDATAPATH')\n",
    "results_path = os.getenv('PACKAGE_NAME')\n",
    "\n",
    "# paths to export results\n",
    "base_results_path = '%s/%s'%(results_path,analysis_name)\n",
    "pict_results_path = '%s/pictures_files'%(base_results_path)\n",
    "files_results_path = '%s/output_files'%(base_results_path)\n",
    "\n",
    "# For multiprocessing purpose\n",
    "num_processes = multiprocessing.cpu_count()\n",
    "\n",
    "# Read data\n",
    "m_time = time.time()\n",
    "\n",
    "# Database caracteristics\n",
    "database = '4classes'\n",
    "n_pts_fft = 1024\n",
    "decimation_rate = 3\n",
    "spectrum_bins_left = 400\n",
    "development_flag = False\n",
    "development_events = 400\n",
    "\n",
    "# Check if LofarData has created...\n",
    "if not os.path.exists('%s/%s/lofar_data_file_fft_%i_decimation_%i_spectrum_left_%i.jbl'%\n",
    "                      (data_path,database,n_pts_fft,decimation_rate,spectrum_bins_left)):\n",
    "    print 'No Files in %s/%s\\n'%(data_path,database)\n",
    "else:\n",
    "    #Read lofar data\n",
    "    [data,trgt,class_labels] = joblib.load('%s/%s/lofar_data_file_fft_%i_decimation_%i_spectrum_left_%i.jbl'%\n",
    "                                           (data_path,database,n_pts_fft,decimation_rate,spectrum_bins_left))\n",
    "\n",
    "\n",
    "    m_time = time.time()-m_time\n",
    "    print 'Time to read data file: '+str(m_time)+' seconds'\n",
    "\n",
    "    # correct format\n",
    "    all_data = data\n",
    "    all_trgt = trgt\n",
    "\n",
    "    # turn targets in sparse mode\n",
    "    from keras.utils import np_utils\n",
    "    trgt_sparse = np_utils.to_categorical(all_trgt.astype(int))\n",
    "\n",
    "    # Process data\n",
    "    # unbalanced data to balanced data with random data creation of small classes\n",
    "\n",
    "    # Same number of events in each class\n",
    "    qtd_events_biggest_class = 0\n",
    "    biggest_class_label = ''\n",
    "\n",
    "    for iclass, class_label in enumerate(class_labels):\n",
    "        if sum(all_trgt==iclass) > qtd_events_biggest_class:\n",
    "            qtd_events_biggest_class = sum(all_trgt==iclass)\n",
    "            biggest_class_label = class_label\n",
    "        print \"Qtd event of %s is %i\"%(class_label,sum(all_trgt==iclass))\n",
    "    print \"\\nBiggest class is %s with %i events\"%(biggest_class_label,qtd_events_biggest_class)\n",
    "\n",
    "    balanced_data = {}\n",
    "    balanced_trgt = {}\n",
    "\n",
    "    from Functions import DataHandler as dh\n",
    "    m_datahandler = dh.DataHandlerFunctions()\n",
    "\n",
    "    for iclass, class_label in enumerate(class_labels):\n",
    "        if development_flag:\n",
    "            class_events = all_data[all_trgt==iclass,:]\n",
    "            if len(balanced_data) == 0:\n",
    "                balanced_data = class_events[0:development_events,:]\n",
    "                balanced_trgt = (iclass)*np.ones(development_events)\n",
    "            else:\n",
    "                balanced_data = np.append(balanced_data,\n",
    "                                          class_events[0:development_events,:],\n",
    "                                          axis=0)\n",
    "                balanced_trgt = np.append(balanced_trgt,(iclass)*np.ones(development_events))\n",
    "        else:\n",
    "            if len(balanced_data) == 0:\n",
    "                class_events = all_data[all_trgt==iclass,:]\n",
    "                balanced_data = m_datahandler.CreateEventsForClass(\n",
    "                    class_events,qtd_events_biggest_class-(len(class_events)))\n",
    "                balanced_trgt = (iclass)*np.ones(qtd_events_biggest_class)\n",
    "            else:\n",
    "                class_events = all_data[all_trgt==iclass,:]\n",
    "                created_events = (m_datahandler.CreateEventsForClass(all_data[all_trgt==iclass,:],\n",
    "                                                                     qtd_events_biggest_class-\n",
    "                                                                     (len(class_events))))\n",
    "                balanced_data = np.append(balanced_data,created_events,axis=0)\n",
    "                balanced_trgt = np.append(balanced_trgt,\n",
    "                                          (iclass)*np.ones(created_events.shape[0]),axis=0)\n",
    "\n",
    "    all_data = balanced_data\n",
    "    all_trgt = balanced_trgt\n",
    "\n",
    "    # turn targets in sparse mode\n",
    "    from keras.utils import np_utils\n",
    "    trgt_sparse = np_utils.to_categorical(all_trgt.astype(int))"
   ]
  },
  {
   "cell_type": "markdown",
   "metadata": {},
   "source": [
    "# Carregar parâmetros de treinamento"
   ]
  },
  {
   "cell_type": "code",
   "execution_count": 4,
   "metadata": {},
   "outputs": [
    {
     "name": "stdout",
     "output_type": "stream",
     "text": [
      "Reading from /home/vinicius.mello/Workspace/SonarAnalysis/Results/NoveltyDetection/10_folds_cross_validation.jbl\n",
      "\n",
      "1_inits_mapstd_norm_500_epochs_128_batch_size_tanh_hidden_activation_linear_output_activation_mean_squared_error_metric_kullback_leibler_divergence_loss\n"
     ]
    }
   ],
   "source": [
    "# Load train parameters\n",
    "\n",
    "analysis_str = 'StackedAutoEncoder'\n",
    "model_prefix_str = 'RawData'\n",
    "\n",
    "trn_params_folder='%s/%s/%s_trnparams.jbl'%(results_path,analysis_str,analysis_name)\n",
    "if os.path.exists(trn_params_folder):\n",
    "    os.remove(trn_params_folder)\n",
    "if not os.path.exists(trn_params_folder):\n",
    "    trn_params = trnparams.SAENoveltyDetectionTrnParams(n_inits=1,\n",
    "                                                       hidden_activation='tanh', # others tanh, relu, sigmoid, linear \n",
    "                                                       output_activation='linear',\n",
    "                                                       n_epochs=500,\n",
    "                                                       patience=20,\n",
    "                                                       batch_size=128,\n",
    "                                                       verbose=False,\n",
    "                                                       optmizerAlgorithm='Adam',\n",
    "                                                       metrics=['mean_squared_error'],\n",
    "                                                       loss='kullback_leibler_divergence')\n",
    "    trn_params.save(trn_params_folder)\n",
    "else:\n",
    "    trn_params = trnparams.SAENoveltyDetectionTrnParams()\n",
    "    trn_params.load(trn_params_folder)\n",
    "    \n",
    "# Choose how many fold to be used in Cross Validation\n",
    "n_folds = 10\n",
    "CVO = trnparams.NoveltyDetectionFolds(folder=results_path,n_folds=n_folds,trgt=all_trgt,dev=development_flag, verbose=True)\n",
    "print '\\n'+trn_params.get_params_str()"
   ]
  },
  {
   "cell_type": "markdown",
   "metadata": {},
   "source": [
    "# Treinamento do Stacked Auto Encoder"
   ]
  },
  {
   "cell_type": "code",
   "execution_count": null,
   "metadata": {
    "scrolled": true
   },
   "outputs": [
    {
     "name": "stdout",
     "output_type": "stream",
     "text": [
      "Novelty to Train: 0\n",
      "[400, 350, 300, 250, 200, 150, 100, 50, 2]\n",
      "Layer: 1 - Neuron: 400 - Fold 1 of 10 Folds -  Init 1 of 1 Inits\n",
      "Layer: 1 - Neuron: 400 - Fold 7 of 10 Folds -  Init 1 of 1 Inits\n",
      "Layer: 1 - Neuron: 400 - Fold 8 of 10 Folds -  Init 1 of 1 Inits\n",
      "Layer: 1 - Neuron: 400 - Fold 6 of 10 Folds -  Init 1 of 1 Inits\n",
      "Layer: 1 - Neuron: 400 - Fold 4 of 10 Folds -  Init 1 of 1 Inits\n"
     ]
    },
    {
     "name": "stderr",
     "output_type": "stream",
     "text": [
      "/home/vinicius.mello/Workspace/SonarAnalysis/Functions/StackedAutoEncoders.py:223: UserWarning: Update your `Dense` call to the Keras 2 API: `Dense(400, kernel_initializer=\"uniform\", input_dim=400)`\n",
      "  model.add(Dense(hidden_neurons[layer-1], input_dim=data.shape[1], init=\"uniform\"))\n",
      "/home/vinicius.mello/Workspace/SonarAnalysis/Functions/StackedAutoEncoders.py:223: UserWarning: Update your `Dense` call to the Keras 2 API: `Dense(400, kernel_initializer=\"uniform\", input_dim=400)`\n",
      "  model.add(Dense(hidden_neurons[layer-1], input_dim=data.shape[1], init=\"uniform\"))\n",
      "/home/vinicius.mello/Workspace/SonarAnalysis/Functions/StackedAutoEncoders.py:223: UserWarning: Update your `Dense` call to the Keras 2 API: `Dense(400, kernel_initializer=\"uniform\", input_dim=400)`\n",
      "  model.add(Dense(hidden_neurons[layer-1], input_dim=data.shape[1], init=\"uniform\"))\n",
      "/home/vinicius.mello/Workspace/SonarAnalysis/Functions/StackedAutoEncoders.py:223: UserWarning: Update your `Dense` call to the Keras 2 API: `Dense(400, kernel_initializer=\"uniform\", input_dim=400)`\n",
      "  model.add(Dense(hidden_neurons[layer-1], input_dim=data.shape[1], init=\"uniform\"))\n"
     ]
    },
    {
     "name": "stdout",
     "output_type": "stream",
     "text": [
      "Layer: 1 - Neuron: 400 - Fold 2 of 10 Folds -  Init 1 of 1 Inits\n"
     ]
    },
    {
     "name": "stderr",
     "output_type": "stream",
     "text": [
      "/home/vinicius.mello/Workspace/SonarAnalysis/Functions/StackedAutoEncoders.py:223: UserWarning: Update your `Dense` call to the Keras 2 API: `Dense(400, kernel_initializer=\"uniform\", input_dim=400)`\n",
      "  model.add(Dense(hidden_neurons[layer-1], input_dim=data.shape[1], init=\"uniform\"))\n"
     ]
    },
    {
     "name": "stdout",
     "output_type": "stream",
     "text": [
      "Layer: 1 - Neuron: 400 - Fold 3 of 10 Folds -  Init 1 of 1 Inits\n"
     ]
    },
    {
     "name": "stderr",
     "output_type": "stream",
     "text": [
      "/home/vinicius.mello/Workspace/SonarAnalysis/Functions/StackedAutoEncoders.py:223: UserWarning: Update your `Dense` call to the Keras 2 API: `Dense(400, kernel_initializer=\"uniform\", input_dim=400)`\n",
      "  model.add(Dense(hidden_neurons[layer-1], input_dim=data.shape[1], init=\"uniform\"))\n"
     ]
    },
    {
     "name": "stdout",
     "output_type": "stream",
     "text": [
      "Layer: 1 - Neuron: 400 - Fold 5 of 10 Folds -  Init 1 of 1 Inits\n"
     ]
    },
    {
     "name": "stderr",
     "output_type": "stream",
     "text": [
      "/home/vinicius.mello/Workspace/SonarAnalysis/Functions/StackedAutoEncoders.py:223: UserWarning: Update your `Dense` call to the Keras 2 API: `Dense(400, kernel_initializer=\"uniform\", input_dim=400)`\n",
      "  model.add(Dense(hidden_neurons[layer-1], input_dim=data.shape[1], init=\"uniform\"))\n",
      "/home/vinicius.mello/Workspace/SonarAnalysis/Functions/StackedAutoEncoders.py:223: UserWarning: Update your `Dense` call to the Keras 2 API: `Dense(400, kernel_initializer=\"uniform\", input_dim=400)`\n",
      "  model.add(Dense(hidden_neurons[layer-1], input_dim=data.shape[1], init=\"uniform\"))\n",
      "/home/vinicius.mello/Workspace/SonarAnalysis/Functions/StackedAutoEncoders.py:225: UserWarning: Update your `Dense` call to the Keras 2 API: `Dense(400, kernel_initializer=\"uniform\")`\n",
      "  model.add(Dense(data.shape[1], init=\"uniform\"))\n",
      "/home/vinicius.mello/Workspace/SonarAnalysis/Functions/StackedAutoEncoders.py:252: UserWarning: Update your `Dense` call to the Keras 2 API: `Dense(400, kernel_initializer=\"uniform\", input_dim=400)`\n",
      "  model.add(Dense(hidden_neurons[layer-1], input_dim=proj_all_data.shape[1], init=\"uniform\"))\n",
      "/home/vinicius.mello/Workspace/SonarAnalysis/Functions/StackedAutoEncoders.py:260: UserWarning: Update your `Dense` call to the Keras 2 API: `Dense(400, kernel_initializer=\"uniform\")`\n",
      "  model.add(Dense(proj_all_data.shape[1], init=\"uniform\"))\n",
      "/home/vinicius.mello/.virtualenvs/sonarenvSatigny/lib/python2.7/site-packages/keras/models.py:848: UserWarning: The `nb_epoch` argument in `fit` has been renamed `epochs`.\n",
      "  warnings.warn('The `nb_epoch` argument in `fit` '\n",
      "INFO (theano.gof.compilelock): Waiting for existing lock by process '25032' (I am process '25033')\n",
      "INFO (theano.gof.compilelock): Waiting for existing lock by process '25032' (I am process '25037')\n",
      "INFO (theano.gof.compilelock): To manually release the lock, delete /home/vinicius.mello/.theano/compiledir_Linux-3.10-el7.x86_64-x86_64-with-centos-7.3.1611-Core-x86_64-2.7.5-64/lock_dir\n",
      "INFO (theano.gof.compilelock): Waiting for existing lock by process '25032' (I am process '25034')\n",
      "INFO (theano.gof.compilelock): To manually release the lock, delete /home/vinicius.mello/.theano/compiledir_Linux-3.10-el7.x86_64-x86_64-with-centos-7.3.1611-Core-x86_64-2.7.5-64/lock_dir\n",
      "INFO (theano.gof.compilelock): To manually release the lock, delete /home/vinicius.mello/.theano/compiledir_Linux-3.10-el7.x86_64-x86_64-with-centos-7.3.1611-Core-x86_64-2.7.5-64/lock_dir\n",
      "INFO (theano.gof.compilelock): Waiting for existing lock by process '25032' (I am process '25031')\n",
      "INFO (theano.gof.compilelock): Waiting for existing lock by process '25032' (I am process '25038')\n",
      "INFO (theano.gof.compilelock): Waiting for existing lock by process '25032' (I am process '25036')\n",
      "INFO (theano.gof.compilelock): To manually release the lock, delete /home/vinicius.mello/.theano/compiledir_Linux-3.10-el7.x86_64-x86_64-with-centos-7.3.1611-Core-x86_64-2.7.5-64/lock_dir\n",
      "INFO (theano.gof.compilelock): To manually release the lock, delete /home/vinicius.mello/.theano/compiledir_Linux-3.10-el7.x86_64-x86_64-with-centos-7.3.1611-Core-x86_64-2.7.5-64/lock_dir\n",
      "INFO (theano.gof.compilelock): To manually release the lock, delete /home/vinicius.mello/.theano/compiledir_Linux-3.10-el7.x86_64-x86_64-with-centos-7.3.1611-Core-x86_64-2.7.5-64/lock_dir\n",
      "INFO (theano.gof.compilelock): Waiting for existing lock by process '25032' (I am process '25035')\n",
      "INFO (theano.gof.compilelock): To manually release the lock, delete /home/vinicius.mello/.theano/compiledir_Linux-3.10-el7.x86_64-x86_64-with-centos-7.3.1611-Core-x86_64-2.7.5-64/lock_dir\n",
      "INFO (theano.gof.compilelock): Waiting for existing lock by process '25032' (I am process '25037')\n",
      "INFO (theano.gof.compilelock): To manually release the lock, delete /home/vinicius.mello/.theano/compiledir_Linux-3.10-el7.x86_64-x86_64-with-centos-7.3.1611-Core-x86_64-2.7.5-64/lock_dir\n",
      "INFO (theano.gof.compilelock): Waiting for existing lock by process '25032' (I am process '25033')\n",
      "INFO (theano.gof.compilelock): To manually release the lock, delete /home/vinicius.mello/.theano/compiledir_Linux-3.10-el7.x86_64-x86_64-with-centos-7.3.1611-Core-x86_64-2.7.5-64/lock_dir\n",
      "INFO (theano.gof.compilelock): Waiting for existing lock by process '25032' (I am process '25034')\n",
      "INFO (theano.gof.compilelock): To manually release the lock, delete /home/vinicius.mello/.theano/compiledir_Linux-3.10-el7.x86_64-x86_64-with-centos-7.3.1611-Core-x86_64-2.7.5-64/lock_dir\n",
      "INFO (theano.gof.compilelock): Waiting for existing lock by process '25032' (I am process '25031')\n",
      "INFO (theano.gof.compilelock): To manually release the lock, delete /home/vinicius.mello/.theano/compiledir_Linux-3.10-el7.x86_64-x86_64-with-centos-7.3.1611-Core-x86_64-2.7.5-64/lock_dir\n",
      "INFO (theano.gof.compilelock): Waiting for existing lock by process '25032' (I am process '25036')\n",
      "INFO (theano.gof.compilelock): To manually release the lock, delete /home/vinicius.mello/.theano/compiledir_Linux-3.10-el7.x86_64-x86_64-with-centos-7.3.1611-Core-x86_64-2.7.5-64/lock_dir\n",
      "INFO (theano.gof.compilelock): Waiting for existing lock by process '25032' (I am process '25035')\n",
      "INFO (theano.gof.compilelock): Waiting for existing lock by process '25032' (I am process '25038')\n",
      "INFO (theano.gof.compilelock): To manually release the lock, delete /home/vinicius.mello/.theano/compiledir_Linux-3.10-el7.x86_64-x86_64-with-centos-7.3.1611-Core-x86_64-2.7.5-64/lock_dir\n",
      "INFO (theano.gof.compilelock): To manually release the lock, delete /home/vinicius.mello/.theano/compiledir_Linux-3.10-el7.x86_64-x86_64-with-centos-7.3.1611-Core-x86_64-2.7.5-64/lock_dir\n",
      "INFO (theano.gof.compilelock): Waiting for existing lock by process '25037' (I am process '25033')\n",
      "INFO (theano.gof.compilelock): Waiting for existing lock by process '25037' (I am process '25034')\n",
      "INFO (theano.gof.compilelock): To manually release the lock, delete /home/vinicius.mello/.theano/compiledir_Linux-3.10-el7.x86_64-x86_64-with-centos-7.3.1611-Core-x86_64-2.7.5-64/lock_dir\n",
      "INFO (theano.gof.compilelock): To manually release the lock, delete /home/vinicius.mello/.theano/compiledir_Linux-3.10-el7.x86_64-x86_64-with-centos-7.3.1611-Core-x86_64-2.7.5-64/lock_dir\n",
      "INFO (theano.gof.compilelock): Waiting for existing lock by process '25037' (I am process '25031')\n",
      "INFO (theano.gof.compilelock): Waiting for existing lock by process '25037' (I am process '25038')\n",
      "INFO (theano.gof.compilelock): To manually release the lock, delete /home/vinicius.mello/.theano/compiledir_Linux-3.10-el7.x86_64-x86_64-with-centos-7.3.1611-Core-x86_64-2.7.5-64/lock_dir\n",
      "INFO (theano.gof.compilelock): To manually release the lock, delete /home/vinicius.mello/.theano/compiledir_Linux-3.10-el7.x86_64-x86_64-with-centos-7.3.1611-Core-x86_64-2.7.5-64/lock_dir\n",
      "INFO (theano.gof.compilelock): Waiting for existing lock by process '25037' (I am process '25035')\n",
      "INFO (theano.gof.compilelock): Waiting for existing lock by process '25037' (I am process '25036')\n",
      "INFO (theano.gof.compilelock): To manually release the lock, delete /home/vinicius.mello/.theano/compiledir_Linux-3.10-el7.x86_64-x86_64-with-centos-7.3.1611-Core-x86_64-2.7.5-64/lock_dir\n",
      "INFO (theano.gof.compilelock): To manually release the lock, delete /home/vinicius.mello/.theano/compiledir_Linux-3.10-el7.x86_64-x86_64-with-centos-7.3.1611-Core-x86_64-2.7.5-64/lock_dir\n",
      "/home/vinicius.mello/Workspace/SonarAnalysis/Functions/StackedAutoEncoders.py:225: UserWarning: Update your `Dense` call to the Keras 2 API: `Dense(400, kernel_initializer=\"uniform\")`\n",
      "  model.add(Dense(data.shape[1], init=\"uniform\"))\n",
      "/home/vinicius.mello/Workspace/SonarAnalysis/Functions/StackedAutoEncoders.py:252: UserWarning: Update your `Dense` call to the Keras 2 API: `Dense(400, kernel_initializer=\"uniform\", input_dim=400)`\n",
      "  model.add(Dense(hidden_neurons[layer-1], input_dim=proj_all_data.shape[1], init=\"uniform\"))\n",
      "/home/vinicius.mello/Workspace/SonarAnalysis/Functions/StackedAutoEncoders.py:260: UserWarning: Update your `Dense` call to the Keras 2 API: `Dense(400, kernel_initializer=\"uniform\")`\n",
      "  model.add(Dense(proj_all_data.shape[1], init=\"uniform\"))\n",
      "/home/vinicius.mello/.virtualenvs/sonarenvSatigny/lib/python2.7/site-packages/keras/models.py:848: UserWarning: The `nb_epoch` argument in `fit` has been renamed `epochs`.\n",
      "  warnings.warn('The `nb_epoch` argument in `fit` '\n"
     ]
    },
    {
     "name": "stderr",
     "output_type": "stream",
     "text": [
      "INFO (theano.gof.compilelock): Waiting for existing lock by process '25033' (I am process '25034')\n",
      "INFO (theano.gof.compilelock): Waiting for existing lock by process '25033' (I am process '25031')\n",
      "INFO (theano.gof.compilelock): Waiting for existing lock by process '25033' (I am process '25038')\n",
      "INFO (theano.gof.compilelock): To manually release the lock, delete /home/vinicius.mello/.theano/compiledir_Linux-3.10-el7.x86_64-x86_64-with-centos-7.3.1611-Core-x86_64-2.7.5-64/lock_dir\n",
      "INFO (theano.gof.compilelock): Waiting for existing lock by process '25033' (I am process '25035')\n",
      "INFO (theano.gof.compilelock): To manually release the lock, delete /home/vinicius.mello/.theano/compiledir_Linux-3.10-el7.x86_64-x86_64-with-centos-7.3.1611-Core-x86_64-2.7.5-64/lock_dir\n",
      "INFO (theano.gof.compilelock): To manually release the lock, delete /home/vinicius.mello/.theano/compiledir_Linux-3.10-el7.x86_64-x86_64-with-centos-7.3.1611-Core-x86_64-2.7.5-64/lock_dir\n",
      "INFO (theano.gof.compilelock): To manually release the lock, delete /home/vinicius.mello/.theano/compiledir_Linux-3.10-el7.x86_64-x86_64-with-centos-7.3.1611-Core-x86_64-2.7.5-64/lock_dir\n",
      "INFO (theano.gof.compilelock): Waiting for existing lock by process '25033' (I am process '25036')\n",
      "INFO (theano.gof.compilelock): To manually release the lock, delete /home/vinicius.mello/.theano/compiledir_Linux-3.10-el7.x86_64-x86_64-with-centos-7.3.1611-Core-x86_64-2.7.5-64/lock_dir\n",
      "/home/vinicius.mello/Workspace/SonarAnalysis/Functions/StackedAutoEncoders.py:225: UserWarning: Update your `Dense` call to the Keras 2 API: `Dense(400, kernel_initializer=\"uniform\")`\n",
      "  model.add(Dense(data.shape[1], init=\"uniform\"))\n",
      "/home/vinicius.mello/Workspace/SonarAnalysis/Functions/StackedAutoEncoders.py:252: UserWarning: Update your `Dense` call to the Keras 2 API: `Dense(400, kernel_initializer=\"uniform\", input_dim=400)`\n",
      "  model.add(Dense(hidden_neurons[layer-1], input_dim=proj_all_data.shape[1], init=\"uniform\"))\n",
      "/home/vinicius.mello/Workspace/SonarAnalysis/Functions/StackedAutoEncoders.py:260: UserWarning: Update your `Dense` call to the Keras 2 API: `Dense(400, kernel_initializer=\"uniform\")`\n",
      "  model.add(Dense(proj_all_data.shape[1], init=\"uniform\"))\n",
      "/home/vinicius.mello/.virtualenvs/sonarenvSatigny/lib/python2.7/site-packages/keras/models.py:848: UserWarning: The `nb_epoch` argument in `fit` has been renamed `epochs`.\n",
      "  warnings.warn('The `nb_epoch` argument in `fit` '\n",
      "INFO (theano.gof.compilelock): Waiting for existing lock by process '25034' (I am process '25031')\n",
      "INFO (theano.gof.compilelock): Waiting for existing lock by process '25034' (I am process '25035')\n",
      "INFO (theano.gof.compilelock): To manually release the lock, delete /home/vinicius.mello/.theano/compiledir_Linux-3.10-el7.x86_64-x86_64-with-centos-7.3.1611-Core-x86_64-2.7.5-64/lock_dir\n",
      "INFO (theano.gof.compilelock): Waiting for existing lock by process '25034' (I am process '25038')\n",
      "INFO (theano.gof.compilelock): Waiting for existing lock by process '25034' (I am process '25036')\n",
      "INFO (theano.gof.compilelock): To manually release the lock, delete /home/vinicius.mello/.theano/compiledir_Linux-3.10-el7.x86_64-x86_64-with-centos-7.3.1611-Core-x86_64-2.7.5-64/lock_dir\n",
      "INFO (theano.gof.compilelock): To manually release the lock, delete /home/vinicius.mello/.theano/compiledir_Linux-3.10-el7.x86_64-x86_64-with-centos-7.3.1611-Core-x86_64-2.7.5-64/lock_dir\n",
      "INFO (theano.gof.compilelock): To manually release the lock, delete /home/vinicius.mello/.theano/compiledir_Linux-3.10-el7.x86_64-x86_64-with-centos-7.3.1611-Core-x86_64-2.7.5-64/lock_dir\n",
      "/home/vinicius.mello/Workspace/SonarAnalysis/Functions/StackedAutoEncoders.py:225: UserWarning: Update your `Dense` call to the Keras 2 API: `Dense(400, kernel_initializer=\"uniform\")`\n",
      "  model.add(Dense(data.shape[1], init=\"uniform\"))\n",
      "/home/vinicius.mello/Workspace/SonarAnalysis/Functions/StackedAutoEncoders.py:252: UserWarning: Update your `Dense` call to the Keras 2 API: `Dense(400, kernel_initializer=\"uniform\", input_dim=400)`\n",
      "  model.add(Dense(hidden_neurons[layer-1], input_dim=proj_all_data.shape[1], init=\"uniform\"))\n",
      "/home/vinicius.mello/Workspace/SonarAnalysis/Functions/StackedAutoEncoders.py:260: UserWarning: Update your `Dense` call to the Keras 2 API: `Dense(400, kernel_initializer=\"uniform\")`\n",
      "  model.add(Dense(proj_all_data.shape[1], init=\"uniform\"))\n",
      "/home/vinicius.mello/.virtualenvs/sonarenvSatigny/lib/python2.7/site-packages/keras/models.py:848: UserWarning: The `nb_epoch` argument in `fit` has been renamed `epochs`.\n",
      "  warnings.warn('The `nb_epoch` argument in `fit` '\n",
      "INFO (theano.gof.compilelock): Waiting for existing lock by process '25031' (I am process '25036')\n",
      "INFO (theano.gof.compilelock): Waiting for existing lock by process '25031' (I am process '25038')\n",
      "INFO (theano.gof.compilelock): Waiting for existing lock by process '25031' (I am process '25035')\n",
      "INFO (theano.gof.compilelock): To manually release the lock, delete /home/vinicius.mello/.theano/compiledir_Linux-3.10-el7.x86_64-x86_64-with-centos-7.3.1611-Core-x86_64-2.7.5-64/lock_dir\n",
      "INFO (theano.gof.compilelock): To manually release the lock, delete /home/vinicius.mello/.theano/compiledir_Linux-3.10-el7.x86_64-x86_64-with-centos-7.3.1611-Core-x86_64-2.7.5-64/lock_dir\n",
      "INFO (theano.gof.compilelock): To manually release the lock, delete /home/vinicius.mello/.theano/compiledir_Linux-3.10-el7.x86_64-x86_64-with-centos-7.3.1611-Core-x86_64-2.7.5-64/lock_dir\n",
      "/home/vinicius.mello/Workspace/SonarAnalysis/Functions/StackedAutoEncoders.py:225: UserWarning: Update your `Dense` call to the Keras 2 API: `Dense(400, kernel_initializer=\"uniform\")`\n",
      "  model.add(Dense(data.shape[1], init=\"uniform\"))\n",
      "/home/vinicius.mello/Workspace/SonarAnalysis/Functions/StackedAutoEncoders.py:252: UserWarning: Update your `Dense` call to the Keras 2 API: `Dense(400, kernel_initializer=\"uniform\", input_dim=400)`\n",
      "  model.add(Dense(hidden_neurons[layer-1], input_dim=proj_all_data.shape[1], init=\"uniform\"))\n",
      "/home/vinicius.mello/Workspace/SonarAnalysis/Functions/StackedAutoEncoders.py:260: UserWarning: Update your `Dense` call to the Keras 2 API: `Dense(400, kernel_initializer=\"uniform\")`\n",
      "  model.add(Dense(proj_all_data.shape[1], init=\"uniform\"))\n",
      "/home/vinicius.mello/.virtualenvs/sonarenvSatigny/lib/python2.7/site-packages/keras/models.py:848: UserWarning: The `nb_epoch` argument in `fit` has been renamed `epochs`.\n",
      "  warnings.warn('The `nb_epoch` argument in `fit` '\n",
      "INFO (theano.gof.compilelock): Waiting for existing lock by unknown process (I am process '25038')\n",
      "INFO (theano.gof.compilelock): Waiting for existing lock by process '25036' (I am process '25035')\n",
      "INFO (theano.gof.compilelock): To manually release the lock, delete /home/vinicius.mello/.theano/compiledir_Linux-3.10-el7.x86_64-x86_64-with-centos-7.3.1611-Core-x86_64-2.7.5-64/lock_dir\n",
      "INFO (theano.gof.compilelock): To manually release the lock, delete /home/vinicius.mello/.theano/compiledir_Linux-3.10-el7.x86_64-x86_64-with-centos-7.3.1611-Core-x86_64-2.7.5-64/lock_dir\n",
      "/home/vinicius.mello/Workspace/SonarAnalysis/Functions/StackedAutoEncoders.py:225: UserWarning: Update your `Dense` call to the Keras 2 API: `Dense(400, kernel_initializer=\"uniform\")`\n",
      "  model.add(Dense(data.shape[1], init=\"uniform\"))\n",
      "/home/vinicius.mello/Workspace/SonarAnalysis/Functions/StackedAutoEncoders.py:252: UserWarning: Update your `Dense` call to the Keras 2 API: `Dense(400, kernel_initializer=\"uniform\", input_dim=400)`\n",
      "  model.add(Dense(hidden_neurons[layer-1], input_dim=proj_all_data.shape[1], init=\"uniform\"))\n",
      "/home/vinicius.mello/Workspace/SonarAnalysis/Functions/StackedAutoEncoders.py:260: UserWarning: Update your `Dense` call to the Keras 2 API: `Dense(400, kernel_initializer=\"uniform\")`\n",
      "  model.add(Dense(proj_all_data.shape[1], init=\"uniform\"))\n",
      "/home/vinicius.mello/.virtualenvs/sonarenvSatigny/lib/python2.7/site-packages/keras/models.py:848: UserWarning: The `nb_epoch` argument in `fit` has been renamed `epochs`.\n",
      "  warnings.warn('The `nb_epoch` argument in `fit` '\n",
      "INFO (theano.gof.compilelock): Waiting for existing lock by process '25035' (I am process '25038')\n",
      "INFO (theano.gof.compilelock): To manually release the lock, delete /home/vinicius.mello/.theano/compiledir_Linux-3.10-el7.x86_64-x86_64-with-centos-7.3.1611-Core-x86_64-2.7.5-64/lock_dir\n"
     ]
    },
    {
     "name": "stderr",
     "output_type": "stream",
     "text": [
      "/home/vinicius.mello/Workspace/SonarAnalysis/Functions/StackedAutoEncoders.py:225: UserWarning: Update your `Dense` call to the Keras 2 API: `Dense(400, kernel_initializer=\"uniform\")`\n",
      "  model.add(Dense(data.shape[1], init=\"uniform\"))\n",
      "/home/vinicius.mello/Workspace/SonarAnalysis/Functions/StackedAutoEncoders.py:252: UserWarning: Update your `Dense` call to the Keras 2 API: `Dense(400, kernel_initializer=\"uniform\", input_dim=400)`\n",
      "  model.add(Dense(hidden_neurons[layer-1], input_dim=proj_all_data.shape[1], init=\"uniform\"))\n",
      "/home/vinicius.mello/Workspace/SonarAnalysis/Functions/StackedAutoEncoders.py:260: UserWarning: Update your `Dense` call to the Keras 2 API: `Dense(400, kernel_initializer=\"uniform\")`\n",
      "  model.add(Dense(proj_all_data.shape[1], init=\"uniform\"))\n",
      "/home/vinicius.mello/.virtualenvs/sonarenvSatigny/lib/python2.7/site-packages/keras/models.py:848: UserWarning: The `nb_epoch` argument in `fit` has been renamed `epochs`.\n",
      "  warnings.warn('The `nb_epoch` argument in `fit` '\n",
      "/home/vinicius.mello/Workspace/SonarAnalysis/Functions/StackedAutoEncoders.py:225: UserWarning: Update your `Dense` call to the Keras 2 API: `Dense(400, kernel_initializer=\"uniform\")`\n",
      "  model.add(Dense(data.shape[1], init=\"uniform\"))\n",
      "/home/vinicius.mello/Workspace/SonarAnalysis/Functions/StackedAutoEncoders.py:252: UserWarning: Update your `Dense` call to the Keras 2 API: `Dense(400, kernel_initializer=\"uniform\", input_dim=400)`\n",
      "  model.add(Dense(hidden_neurons[layer-1], input_dim=proj_all_data.shape[1], init=\"uniform\"))\n",
      "/home/vinicius.mello/Workspace/SonarAnalysis/Functions/StackedAutoEncoders.py:260: UserWarning: Update your `Dense` call to the Keras 2 API: `Dense(400, kernel_initializer=\"uniform\")`\n",
      "  model.add(Dense(proj_all_data.shape[1], init=\"uniform\"))\n",
      "/home/vinicius.mello/.virtualenvs/sonarenvSatigny/lib/python2.7/site-packages/keras/models.py:848: UserWarning: The `nb_epoch` argument in `fit` has been renamed `epochs`.\n",
      "  warnings.warn('The `nb_epoch` argument in `fit` '\n"
     ]
    },
    {
     "name": "stdout",
     "output_type": "stream",
     "text": [
      "Layer: 1 - Neuron: 400 - Fold 9 of 10 Folds -  Init 1 of 1 Inits\n",
      "Layer: 1 - Neuron: 400 - Fold 10 of 10 Folds -  Init 1 of 1 Inits\n"
     ]
    }
   ],
   "source": [
    "##### Train Process #####\n",
    "inovelty = 0\n",
    "novelty_train=[inovelty]\n",
    "print 'Novelty to Train: %i'%inovelty\n",
    "\n",
    "SAE = StackedAutoEncoders(params           = trn_params,\n",
    "                          development_flag = development_flag,\n",
    "                          n_folds          = n_folds,\n",
    "                          save_path        = results_path,\n",
    "                          CVO              = CVO,\n",
    "                          noveltyDetection = True,\n",
    "                          inovelty         = inovelty)\n",
    "\n",
    "# Choose layer to be trained\n",
    "layer = 1\n",
    "\n",
    "n_folds = len(CVO[inovelty])\n",
    "\n",
    "hidden_neurons = range(400,0,-50) + [2]\n",
    "print hidden_neurons\n",
    "\n",
    "regularizer = \"\"\n",
    "regularizer_param = 0.5\n",
    "\n",
    "trn_data = all_data[all_trgt!=inovelty]\n",
    "trn_trgt = all_trgt[all_trgt!=inovelty]\n",
    "trn_trgt[trn_trgt>inovelty] = trn_trgt[trn_trgt>inovelty]-1\n",
    "\n",
    "# Functions defined to be used by multiprocessing.Pool()\n",
    "def trainNeuron(ineuron):\n",
    "    for ifold in range(n_folds):\n",
    "        SAE.trainLayer(data = trn_data,\n",
    "                       trgt = trn_trgt,\n",
    "                       ifold = ifold,\n",
    "                       hidden_neurons = hidden_neurons + [ineuron],\n",
    "                       layer = layer,\n",
    "                       regularizer = regularizer,\n",
    "                       regularizer_param = regularizer_param)\n",
    "\n",
    "def trainFold(ifold):\n",
    "    return SAE.trainLayer(data = trn_data,\n",
    "                          trgt = trn_trgt,\n",
    "                          ifold = ifold,\n",
    "                          hidden_neurons = hidden_neurons,\n",
    "                          layer = layer,\n",
    "                          regularizer = regularizer,\n",
    "                          regularizer_param = regularizer_param)\n",
    "\n",
    "start_time = time.time()\n",
    "\n",
    "# Start Parallel processing\n",
    "p = multiprocessing.Pool(processes=num_processes)\n",
    "\n",
    "####################### SAE LAYERS ############################\n",
    "# It is necessary to choose the layer to be trained\n",
    "\n",
    "# To train on multiple cores sweeping the number of neurons\n",
    "folds = range(len(CVO[inovelty]))\n",
    "results = p.map(trainFold, folds)\n",
    "\n",
    "# To train multiple topologies sweeping the number of neurons\n",
    "# neurons_mat = range(0,400,50) (start,final,step)\n",
    "# results = p.map(trainNeuron, neurons_mat)\n",
    "\n",
    "p.close()\n",
    "p.join()\n",
    "\n",
    "# for ifold in range(len(CVO[inovelty])):\n",
    "#     result = trainFold(ifold)\n",
    "\n",
    "end_time = time.time() - start_time\n",
    "print \"It took %.3f seconds to perform the training\"%(end_time)"
   ]
  },
  {
   "cell_type": "code",
   "execution_count": null,
   "metadata": {
    "collapsed": true
   },
   "outputs": [],
   "source": [
    "results"
   ]
  },
  {
   "cell_type": "code",
   "execution_count": null,
   "metadata": {},
   "outputs": [],
   "source": [
    "projection = SAE.getDataProjection(data = all_data, trgt=all_trgt, ifold = 0,\n",
    "                                   hidden_neurons = hidden_neurons, layer = layer)\n",
    "print projection.shape\n"
   ]
  },
  {
   "cell_type": "markdown",
   "metadata": {},
   "source": [
    "# Treinamento de Classificação"
   ]
  },
  {
   "cell_type": "code",
   "execution_count": null,
   "metadata": {
    "collapsed": true
   },
   "outputs": [],
   "source": [
    "# Train classifiers to their corresponding folds\n",
    "def trainClassifierFold(ifold): \n",
    "    return SAE.trainClassifier(data=all_data,\n",
    "                        trgt = all_trgt,\n",
    "                        ifold = 0,\n",
    "                        hidden_neurons=hidden_neurons,\n",
    "                        layer = 3)\n",
    "\n",
    "# Train classifier sweeping the number of layer\n",
    "def trainClassifierLayer(ilayer):\n",
    "    for ifold in range(len(CVO)):\n",
    "        SAE.trainClassifier(data=all_data,\n",
    "                            trgt = all_trgt,\n",
    "                            ifold = ifold,\n",
    "                            hidden_neurons=hidden_neurons,\n",
    "                            layer = ilayer)\n",
    "start_time = time.time()\n",
    "\n",
    "p = multiprocessing.Pool(num_processes)\n",
    "\n",
    "folds = range(len(CVO))\n",
    "results = p.map(trainClassifierFold, folds)\n",
    "\n",
    "# layers = range(1,11)\n",
    "# results = p.map(trainClassifierLayer, layers)\n",
    "\n",
    "p.close()\n",
    "p.join()\n",
    "\n",
    "end_time = time.time() - start_time\n",
    "print \"It took %.3f seconds to perform the training\"%(end_time)"
   ]
  },
  {
   "cell_type": "code",
   "execution_count": null,
   "metadata": {
    "collapsed": true
   },
   "outputs": [],
   "source": [
    "classifier = SAE.loadClassifier(data = all_data, trgt = all_trgt, hidden_neurons=hidden_neurons, layer=3, ifold = 0)"
   ]
  },
  {
   "cell_type": "code",
   "execution_count": null,
   "metadata": {
    "collapsed": true
   },
   "outputs": [],
   "source": [
    "train_id, test_id = CVO[0]\n",
    "output = classifier.predict(all_data[test_id, :])\n",
    "print sklearn.metrics.classification_report(trgt_sparse[test_id], np.round(output), target_names=class_labels.values())"
   ]
  },
  {
   "cell_type": "code",
   "execution_count": null,
   "metadata": {
    "collapsed": true
   },
   "outputs": [],
   "source": []
  }
 ],
 "metadata": {
  "kernelspec": {
   "display_name": "Python 2",
   "language": "python",
   "name": "python2"
  },
  "language_info": {
   "codemirror_mode": {
    "name": "ipython",
    "version": 2
   },
   "file_extension": ".py",
   "mimetype": "text/x-python",
   "name": "python",
   "nbconvert_exporter": "python",
   "pygments_lexer": "ipython2",
   "version": "2.7.5"
  }
 },
 "nbformat": 4,
 "nbformat_minor": 2
}
