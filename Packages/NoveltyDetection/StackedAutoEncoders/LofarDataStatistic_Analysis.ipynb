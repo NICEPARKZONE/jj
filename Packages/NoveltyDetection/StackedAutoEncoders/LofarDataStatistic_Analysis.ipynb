{
 "cells": [
  {
   "cell_type": "code",
   "execution_count": null,
   "metadata": {
    "collapsed": true
   },
   "outputs": [],
   "source": [
    "# Projeto Marinha do Brasil\n",
    "\n",
    "# Autor: Natanael Junior (natmourajr@gmail.com)\n",
    "# Laboratorio de Processamento de Sinais - UFRJ"
   ]
  },
  {
   "cell_type": "code",
   "execution_count": null,
   "metadata": {
    "collapsed": true
   },
   "outputs": [],
   "source": [
    "import os\n",
    "import pickle\n",
    "import numpy as np\n",
    "import time\n",
    "\n",
    "init_time = time.time()\n",
    "\n",
    "from sklearn import preprocessing\n",
    "from sklearn import cross_validation\n",
    "from sklearn.externals import joblib\n",
    "\n",
    "import matplotlib.pyplot as plt\n",
    "from matplotlib.legend_handler import HandlerLine2D\n",
    "\n",
    "plt.rcParams['lines.linewidth'] = 2\n",
    "plt.rcParams['legend.handlelength'] = 3\n",
    "plt.rcParams['legend.borderpad'] = 0.3\n",
    "plt.rcParams['legend.numpoints'] = 1\n",
    "plt.rcParams['xtick.labelsize'] = 18\n",
    "plt.rcParams['font.weight'] = 'bold'\n",
    "plt.rcParams['ytick.labelsize'] = 18\n",
    "\n",
    "%matplotlib inline\n",
    "\n",
    "m_time = time.time()\n",
    "print 'Time to import all libraries: '+str(m_time-init_time)+' seconds'\n",
    "\n",
    "analysis_name = 'StackedAutoEncoder'\n",
    "data_path = os.getenv('OUTPUTDATAPATH')\n",
    "results_path = os.getenv('PACKAGE_NAME')\n",
    "\n",
    "base_results_path = '%s/%s'%(results_path,analysis_name)\n",
    "pict_results_path = '%s/pictures_files'%(base_results_path)\n",
    "files_results_path = '%s/output_files'%(base_results_path)\n",
    "\n",
    "outputpath = os.environ['OUTPUTDATAPATH']\n",
    "main_analysis_path = os.environ['SONAR_WORKSPACE']\n",
    "analysis_path = outputpath+analysis_name\n",
    "pict_path = analysis_path+'/pictures_files'\n",
    "\n",
    "\n",
    "m_time = time.time()\n",
    "\n",
    "\n",
    "subfolder = '4classes'\n",
    "n_pts_fft = 1024\n",
    "decimation_rate = 3\n",
    "\n",
    "if(not os.path.exists(outputpath+'/'+'LofarData_%s_%i_fft_pts_%i_decimation_rate.jbl'%(\n",
    "            subfolder,n_pts_fft,decimation_rate))):\n",
    "    print outputpath+'/'+'LofarData_%s_%i_fft_pts_%i_decimation_rate.pickle'%(\n",
    "        subfolder,n_pts_fft,decimation_rate)+' doesnt exist...please create it'\n",
    "    exit()\n",
    "    \n",
    "#Read lofar data\n",
    "[data,class_labels] = joblib.load(outputpath+'/'+'LofarData_%s_%i_fft_pts_%i_decimation_rate.jbl'%(\n",
    "            subfolder,n_pts_fft,decimation_rate))\n",
    "m_time = time.time()-m_time\n",
    "print 'Time to read data file: '+str(m_time)+' seconds'"
   ]
  },
  {
   "cell_type": "code",
   "execution_count": null,
   "metadata": {
    "collapsed": true
   },
   "outputs": [],
   "source": [
    "# Process data...\n",
    "# create a full data vector\n",
    "all_data = {};\n",
    "all_trgt = {};\n",
    "\n",
    "for iclass, class_label in enumerate(class_labels):\n",
    "    for irun in range(len(data[iclass])):\n",
    "        if len(all_data) == 0:\n",
    "            all_data = data[iclass][irun]['Signal']\n",
    "            all_trgt = (iclass)*np.ones(data[iclass][irun]['Signal'].shape[1])\n",
    "        else:\n",
    "            all_data = np.append(all_data,data[iclass][irun]['Signal'],axis=1)\n",
    "            all_trgt = np.append(all_trgt,(iclass)*np.ones(data[iclass][irun]\n",
    "                                                           ['Signal'].shape[1]),axis=0)\n",
    "            \n",
    "all_data = all_data.transpose()"
   ]
  },
  {
   "cell_type": "markdown",
   "metadata": {},
   "source": [
    "# LOFARGram"
   ]
  },
  {
   "cell_type": "code",
   "execution_count": null,
   "metadata": {
    "collapsed": true
   },
   "outputs": [],
   "source": [
    "fig= plt.subplots(figsize=(20,20))\n",
    "\n",
    "plt.rcParams['font.weight'] = 'bold'\n",
    "plt.rcParams['font.size'] = 30\n",
    "plt.rcParams['xtick.labelsize'] = 30\n",
    "plt.rcParams['ytick.labelsize'] = 30\n",
    "\n",
    "choose_class = 6\n",
    "plt.imshow(all_data[all_trgt==choose_class,:],\n",
    "           cmap=\"jet\",extent=[1, 400, all_data[all_trgt==choose_class,:].shape[0],1],\n",
    "           aspect=\"auto\")\n",
    "cbar = plt.colorbar()\n",
    "cbar.ax.set_ylabel('dB',fontweight='bold') \n",
    "\n",
    "plt.title('Lofargram for Class%i'%(choose_class),fontweight='bold')\n",
    "plt.xlabel('Frequency bins',fontweight='bold')\n",
    "plt.ylabel('Time (seconds)',fontweight='bold')"
   ]
  },
  {
   "cell_type": "code",
   "execution_count": null,
   "metadata": {
    "collapsed": true
   },
   "outputs": [],
   "source": [
    "\n",
    "\n",
    "m_fontsize = 30\n",
    "\n",
    "plt.rcParams['font.weight'] = 'bold'\n",
    "plt.rcParams['font.size'] = m_fontsize\n",
    "plt.rcParams['xtick.labelsize'] = m_fontsize\n",
    "plt.rcParams['ytick.labelsize'] = m_fontsize\n",
    "\n",
    "fig, subplot_array = plt.subplots(nrows=2, ncols=2,figsize=(40,20))\n",
    "for iclass, class_label in enumerate(class_labels):\n",
    "    ax = plt.subplot(2,2,iclass+1)\n",
    "    plt.title('Lofar Analysis for %s'%(class_label), fontsize= m_fontsize, fontweight=\"bold\")\n",
    "    \n",
    "    if iclass > 1:\n",
    "        plt.xlabel('Frequencies (Hz)', fontsize= m_fontsize, fontweight=\"bold\")\n",
    "    if ((iclass == 0) or (iclass==2)):\n",
    "        plt.ylabel('Time (seconds)', fontsize= m_fontsize, fontweight=\"bold\")\n",
    "    \n",
    "    plt.imshow(all_data[all_trgt==iclass,:],\n",
    "           cmap=\"jet\",extent=[1, 400, all_data[all_trgt==iclass,:].shape[0],1],\n",
    "           aspect=\"auto\")\n",
    "    plt.xticks(np.linspace(0,400,9),rotation=45)\n",
    "    cbar = plt.colorbar()\n",
    "    #if ((iclass == 1) or (iclass==3)):\n",
    "    cbar.ax.set_ylabel('dB',fontweight='bold') \n",
    "\n",
    "base_path = '/home/natmourajr/Workspace/Doutorado/SonarAnalysis/Results/StationarityAnalysis/picts'\n",
    "fig.savefig(base_path+'/lofar.pdf')\n"
   ]
  },
  {
   "cell_type": "markdown",
   "metadata": {},
   "source": [
    "# Lofar distributions"
   ]
  },
  {
   "cell_type": "code",
   "execution_count": null,
   "metadata": {
    "collapsed": true
   },
   "outputs": [],
   "source": [
    "# Show Window Distributions\n",
    "#from mpl_toolkits.mplot3d import Axes3D\n",
    "fig, subplot_array = plt.subplots(nrows=4, ncols=5,figsize=(100,80))\n",
    "\n",
    "m_colors = ['b', 'r', 'g', 'y']\n",
    "\n",
    "bins = np.linspace(-1,1,200)\n",
    "ax = {}\n",
    "\n",
    "for iclass, iclass_label in enumerate(class_labels):\n",
    "    print 'Processing Class: %s' % (iclass_label)\n",
    "    \n",
    "      \n"
   ]
  }
 ],
 "metadata": {
  "kernelspec": {
   "display_name": "Python 2",
   "language": "python",
   "name": "python2"
  },
  "language_info": {
   "codemirror_mode": {
    "name": "ipython",
    "version": 2
   },
   "file_extension": ".py",
   "mimetype": "text/x-python",
   "name": "python",
   "nbconvert_exporter": "python",
   "pygments_lexer": "ipython2",
   "version": "2.7.5"
  }
 },
 "nbformat": 4,
 "nbformat_minor": 2
}
